{
 "cells": [
  {
   "cell_type": "markdown",
   "id": "6bb2a9ff",
   "metadata": {},
   "source": [
    "# Analysis of Fandango's Movie Ratings System\n",
    "\n",
    "\n",
    "<p style=\"text-align:center;\">\n",
    "  <img src=\"https://fivethirtyeight.com/wp-content/uploads/2015/10/fandango_lede_revise.png?w=575\" width=\"500\" height=\"100\">\n",
    "  <br>\n",
    "  Source: <a href=\"https://fivethirtyeight.com/features/fandango-movies-ratings/\">FiveThirtyEight</a>\n",
    "</p>\n",
    "\n",
    "\n",
    "In this project, we will be analyzing movie ratings data from Fandango, an online movie ratings aggregator. Our goal is to determine whether there has been any change in Fandango's rating system after a data journalist named Walt Hickey found strong evidence to suggest that the rating system was biased and dishonest in 2015. We will use more recent movie ratings data to determine if Fandango has made any improvements to its rating system since [Hickey's analysis](https://fivethirtyeight.com/features/fandango-movies-ratings/). By performing this analysis, we aim to gain insight into the accuracy and fairness of Fandango's movie ratings.\n",
    "\n",
    "## Project and Data Overview\n",
    "\n",
    "One effective way to determine if there has been any changes in Fandango's rating system since Walt Hickey's analysis is by comparing the system's features before and after the analysis. Luckily, we have access to the necessary data for both periods of time:\n",
    "\n",
    "- Walt Hickey made the data from his analysis publicly accessible on GitHub [FiveThirtyEight](https://github.com/fivethirtyeight/data/tree/master/fandango). This data will be used to analyze Fandango's rating system prior to Hickey's analysis.\n",
    "- A team member from Dataquest has collected movie rating data for films released in 2016 and 2017. This data is available on GitHub [Movie_ratings_2016_17](https://github.com/mircealex/Movie_ratings_2016_17) and will be used to analyze the features of Fandango's rating system after Hickey's analysis.\n",
    "\n",
    "## Understanding the Data\n",
    "\n",
    "Let's start by importing the necessary libraries, then proceed to read in both datasets."
   ]
  },
  {
   "cell_type": "code",
   "execution_count": 1,
   "id": "4914de64",
   "metadata": {},
   "outputs": [],
   "source": [
    "import numpy as np\n",
    "import pandas as pd\n",
    "import seaborn as sns\n",
    "import matplotlib.pyplot as plt\n",
    "\n",
    "pd.options.display.max_columns = 100  # Avoid having displayed truncated output\n",
    "%matplotlib inline"
   ]
  },
  {
   "cell_type": "code",
   "execution_count": 2,
   "id": "80f3a2c0",
   "metadata": {},
   "outputs": [],
   "source": [
    "# Read both datasets\n",
    "previous = pd.read_csv('fandango_score_comparison.csv')\n",
    "after = pd.read_csv('movie_ratings_16_17.csv')"
   ]
  },
  {
   "cell_type": "code",
   "execution_count": 3,
   "id": "48179a60",
   "metadata": {},
   "outputs": [
    {
     "data": {
      "text/html": [
       "<div>\n",
       "<style scoped>\n",
       "    .dataframe tbody tr th:only-of-type {\n",
       "        vertical-align: middle;\n",
       "    }\n",
       "\n",
       "    .dataframe tbody tr th {\n",
       "        vertical-align: top;\n",
       "    }\n",
       "\n",
       "    .dataframe thead th {\n",
       "        text-align: right;\n",
       "    }\n",
       "</style>\n",
       "<table border=\"1\" class=\"dataframe\">\n",
       "  <thead>\n",
       "    <tr style=\"text-align: right;\">\n",
       "      <th></th>\n",
       "      <th>FILM</th>\n",
       "      <th>RottenTomatoes</th>\n",
       "      <th>RottenTomatoes_User</th>\n",
       "      <th>Metacritic</th>\n",
       "      <th>Metacritic_User</th>\n",
       "      <th>IMDB</th>\n",
       "      <th>Fandango_Stars</th>\n",
       "      <th>Fandango_Ratingvalue</th>\n",
       "      <th>RT_norm</th>\n",
       "      <th>RT_user_norm</th>\n",
       "      <th>Metacritic_norm</th>\n",
       "      <th>Metacritic_user_nom</th>\n",
       "      <th>IMDB_norm</th>\n",
       "      <th>RT_norm_round</th>\n",
       "      <th>RT_user_norm_round</th>\n",
       "      <th>Metacritic_norm_round</th>\n",
       "      <th>Metacritic_user_norm_round</th>\n",
       "      <th>IMDB_norm_round</th>\n",
       "      <th>Metacritic_user_vote_count</th>\n",
       "      <th>IMDB_user_vote_count</th>\n",
       "      <th>Fandango_votes</th>\n",
       "      <th>Fandango_Difference</th>\n",
       "    </tr>\n",
       "  </thead>\n",
       "  <tbody>\n",
       "    <tr>\n",
       "      <th>0</th>\n",
       "      <td>Avengers: Age of Ultron (2015)</td>\n",
       "      <td>74</td>\n",
       "      <td>86</td>\n",
       "      <td>66</td>\n",
       "      <td>7.1</td>\n",
       "      <td>7.8</td>\n",
       "      <td>5.0</td>\n",
       "      <td>4.5</td>\n",
       "      <td>3.70</td>\n",
       "      <td>4.3</td>\n",
       "      <td>3.30</td>\n",
       "      <td>3.55</td>\n",
       "      <td>3.90</td>\n",
       "      <td>3.5</td>\n",
       "      <td>4.5</td>\n",
       "      <td>3.5</td>\n",
       "      <td>3.5</td>\n",
       "      <td>4.0</td>\n",
       "      <td>1330</td>\n",
       "      <td>271107</td>\n",
       "      <td>14846</td>\n",
       "      <td>0.5</td>\n",
       "    </tr>\n",
       "    <tr>\n",
       "      <th>1</th>\n",
       "      <td>Cinderella (2015)</td>\n",
       "      <td>85</td>\n",
       "      <td>80</td>\n",
       "      <td>67</td>\n",
       "      <td>7.5</td>\n",
       "      <td>7.1</td>\n",
       "      <td>5.0</td>\n",
       "      <td>4.5</td>\n",
       "      <td>4.25</td>\n",
       "      <td>4.0</td>\n",
       "      <td>3.35</td>\n",
       "      <td>3.75</td>\n",
       "      <td>3.55</td>\n",
       "      <td>4.5</td>\n",
       "      <td>4.0</td>\n",
       "      <td>3.5</td>\n",
       "      <td>4.0</td>\n",
       "      <td>3.5</td>\n",
       "      <td>249</td>\n",
       "      <td>65709</td>\n",
       "      <td>12640</td>\n",
       "      <td>0.5</td>\n",
       "    </tr>\n",
       "    <tr>\n",
       "      <th>2</th>\n",
       "      <td>Ant-Man (2015)</td>\n",
       "      <td>80</td>\n",
       "      <td>90</td>\n",
       "      <td>64</td>\n",
       "      <td>8.1</td>\n",
       "      <td>7.8</td>\n",
       "      <td>5.0</td>\n",
       "      <td>4.5</td>\n",
       "      <td>4.00</td>\n",
       "      <td>4.5</td>\n",
       "      <td>3.20</td>\n",
       "      <td>4.05</td>\n",
       "      <td>3.90</td>\n",
       "      <td>4.0</td>\n",
       "      <td>4.5</td>\n",
       "      <td>3.0</td>\n",
       "      <td>4.0</td>\n",
       "      <td>4.0</td>\n",
       "      <td>627</td>\n",
       "      <td>103660</td>\n",
       "      <td>12055</td>\n",
       "      <td>0.5</td>\n",
       "    </tr>\n",
       "    <tr>\n",
       "      <th>3</th>\n",
       "      <td>Do You Believe? (2015)</td>\n",
       "      <td>18</td>\n",
       "      <td>84</td>\n",
       "      <td>22</td>\n",
       "      <td>4.7</td>\n",
       "      <td>5.4</td>\n",
       "      <td>5.0</td>\n",
       "      <td>4.5</td>\n",
       "      <td>0.90</td>\n",
       "      <td>4.2</td>\n",
       "      <td>1.10</td>\n",
       "      <td>2.35</td>\n",
       "      <td>2.70</td>\n",
       "      <td>1.0</td>\n",
       "      <td>4.0</td>\n",
       "      <td>1.0</td>\n",
       "      <td>2.5</td>\n",
       "      <td>2.5</td>\n",
       "      <td>31</td>\n",
       "      <td>3136</td>\n",
       "      <td>1793</td>\n",
       "      <td>0.5</td>\n",
       "    </tr>\n",
       "    <tr>\n",
       "      <th>4</th>\n",
       "      <td>Hot Tub Time Machine 2 (2015)</td>\n",
       "      <td>14</td>\n",
       "      <td>28</td>\n",
       "      <td>29</td>\n",
       "      <td>3.4</td>\n",
       "      <td>5.1</td>\n",
       "      <td>3.5</td>\n",
       "      <td>3.0</td>\n",
       "      <td>0.70</td>\n",
       "      <td>1.4</td>\n",
       "      <td>1.45</td>\n",
       "      <td>1.70</td>\n",
       "      <td>2.55</td>\n",
       "      <td>0.5</td>\n",
       "      <td>1.5</td>\n",
       "      <td>1.5</td>\n",
       "      <td>1.5</td>\n",
       "      <td>2.5</td>\n",
       "      <td>88</td>\n",
       "      <td>19560</td>\n",
       "      <td>1021</td>\n",
       "      <td>0.5</td>\n",
       "    </tr>\n",
       "  </tbody>\n",
       "</table>\n",
       "</div>"
      ],
      "text/plain": [
       "                             FILM  RottenTomatoes  RottenTomatoes_User  \\\n",
       "0  Avengers: Age of Ultron (2015)              74                   86   \n",
       "1               Cinderella (2015)              85                   80   \n",
       "2                  Ant-Man (2015)              80                   90   \n",
       "3          Do You Believe? (2015)              18                   84   \n",
       "4   Hot Tub Time Machine 2 (2015)              14                   28   \n",
       "\n",
       "   Metacritic  Metacritic_User  IMDB  Fandango_Stars  Fandango_Ratingvalue  \\\n",
       "0          66              7.1   7.8             5.0                   4.5   \n",
       "1          67              7.5   7.1             5.0                   4.5   \n",
       "2          64              8.1   7.8             5.0                   4.5   \n",
       "3          22              4.7   5.4             5.0                   4.5   \n",
       "4          29              3.4   5.1             3.5                   3.0   \n",
       "\n",
       "   RT_norm  RT_user_norm  Metacritic_norm  Metacritic_user_nom  IMDB_norm  \\\n",
       "0     3.70           4.3             3.30                 3.55       3.90   \n",
       "1     4.25           4.0             3.35                 3.75       3.55   \n",
       "2     4.00           4.5             3.20                 4.05       3.90   \n",
       "3     0.90           4.2             1.10                 2.35       2.70   \n",
       "4     0.70           1.4             1.45                 1.70       2.55   \n",
       "\n",
       "   RT_norm_round  RT_user_norm_round  Metacritic_norm_round  \\\n",
       "0            3.5                 4.5                    3.5   \n",
       "1            4.5                 4.0                    3.5   \n",
       "2            4.0                 4.5                    3.0   \n",
       "3            1.0                 4.0                    1.0   \n",
       "4            0.5                 1.5                    1.5   \n",
       "\n",
       "   Metacritic_user_norm_round  IMDB_norm_round  Metacritic_user_vote_count  \\\n",
       "0                         3.5              4.0                        1330   \n",
       "1                         4.0              3.5                         249   \n",
       "2                         4.0              4.0                         627   \n",
       "3                         2.5              2.5                          31   \n",
       "4                         1.5              2.5                          88   \n",
       "\n",
       "   IMDB_user_vote_count  Fandango_votes  Fandango_Difference  \n",
       "0                271107           14846                  0.5  \n",
       "1                 65709           12640                  0.5  \n",
       "2                103660           12055                  0.5  \n",
       "3                  3136            1793                  0.5  \n",
       "4                 19560            1021                  0.5  "
      ]
     },
     "metadata": {},
     "output_type": "display_data"
    },
    {
     "data": {
      "text/html": [
       "<div>\n",
       "<style scoped>\n",
       "    .dataframe tbody tr th:only-of-type {\n",
       "        vertical-align: middle;\n",
       "    }\n",
       "\n",
       "    .dataframe tbody tr th {\n",
       "        vertical-align: top;\n",
       "    }\n",
       "\n",
       "    .dataframe thead th {\n",
       "        text-align: right;\n",
       "    }\n",
       "</style>\n",
       "<table border=\"1\" class=\"dataframe\">\n",
       "  <thead>\n",
       "    <tr style=\"text-align: right;\">\n",
       "      <th></th>\n",
       "      <th>movie</th>\n",
       "      <th>year</th>\n",
       "      <th>metascore</th>\n",
       "      <th>imdb</th>\n",
       "      <th>tmeter</th>\n",
       "      <th>audience</th>\n",
       "      <th>fandango</th>\n",
       "      <th>n_metascore</th>\n",
       "      <th>n_imdb</th>\n",
       "      <th>n_tmeter</th>\n",
       "      <th>n_audience</th>\n",
       "      <th>nr_metascore</th>\n",
       "      <th>nr_imdb</th>\n",
       "      <th>nr_tmeter</th>\n",
       "      <th>nr_audience</th>\n",
       "    </tr>\n",
       "  </thead>\n",
       "  <tbody>\n",
       "    <tr>\n",
       "      <th>0</th>\n",
       "      <td>10 Cloverfield Lane</td>\n",
       "      <td>2016</td>\n",
       "      <td>76</td>\n",
       "      <td>7.2</td>\n",
       "      <td>90</td>\n",
       "      <td>79</td>\n",
       "      <td>3.5</td>\n",
       "      <td>3.80</td>\n",
       "      <td>3.60</td>\n",
       "      <td>4.50</td>\n",
       "      <td>3.95</td>\n",
       "      <td>4.0</td>\n",
       "      <td>3.5</td>\n",
       "      <td>4.5</td>\n",
       "      <td>4.0</td>\n",
       "    </tr>\n",
       "    <tr>\n",
       "      <th>1</th>\n",
       "      <td>13 Hours</td>\n",
       "      <td>2016</td>\n",
       "      <td>48</td>\n",
       "      <td>7.3</td>\n",
       "      <td>50</td>\n",
       "      <td>83</td>\n",
       "      <td>4.5</td>\n",
       "      <td>2.40</td>\n",
       "      <td>3.65</td>\n",
       "      <td>2.50</td>\n",
       "      <td>4.15</td>\n",
       "      <td>2.5</td>\n",
       "      <td>3.5</td>\n",
       "      <td>2.5</td>\n",
       "      <td>4.0</td>\n",
       "    </tr>\n",
       "    <tr>\n",
       "      <th>2</th>\n",
       "      <td>A Cure for Wellness</td>\n",
       "      <td>2016</td>\n",
       "      <td>47</td>\n",
       "      <td>6.6</td>\n",
       "      <td>40</td>\n",
       "      <td>47</td>\n",
       "      <td>3.0</td>\n",
       "      <td>2.35</td>\n",
       "      <td>3.30</td>\n",
       "      <td>2.00</td>\n",
       "      <td>2.35</td>\n",
       "      <td>2.5</td>\n",
       "      <td>3.5</td>\n",
       "      <td>2.0</td>\n",
       "      <td>2.5</td>\n",
       "    </tr>\n",
       "    <tr>\n",
       "      <th>3</th>\n",
       "      <td>A Dog's Purpose</td>\n",
       "      <td>2017</td>\n",
       "      <td>43</td>\n",
       "      <td>5.2</td>\n",
       "      <td>33</td>\n",
       "      <td>76</td>\n",
       "      <td>4.5</td>\n",
       "      <td>2.15</td>\n",
       "      <td>2.60</td>\n",
       "      <td>1.65</td>\n",
       "      <td>3.80</td>\n",
       "      <td>2.0</td>\n",
       "      <td>2.5</td>\n",
       "      <td>1.5</td>\n",
       "      <td>4.0</td>\n",
       "    </tr>\n",
       "    <tr>\n",
       "      <th>4</th>\n",
       "      <td>A Hologram for the King</td>\n",
       "      <td>2016</td>\n",
       "      <td>58</td>\n",
       "      <td>6.1</td>\n",
       "      <td>70</td>\n",
       "      <td>57</td>\n",
       "      <td>3.0</td>\n",
       "      <td>2.90</td>\n",
       "      <td>3.05</td>\n",
       "      <td>3.50</td>\n",
       "      <td>2.85</td>\n",
       "      <td>3.0</td>\n",
       "      <td>3.0</td>\n",
       "      <td>3.5</td>\n",
       "      <td>3.0</td>\n",
       "    </tr>\n",
       "  </tbody>\n",
       "</table>\n",
       "</div>"
      ],
      "text/plain": [
       "                     movie  year  metascore  imdb  tmeter  audience  fandango  \\\n",
       "0      10 Cloverfield Lane  2016         76   7.2      90        79       3.5   \n",
       "1                 13 Hours  2016         48   7.3      50        83       4.5   \n",
       "2      A Cure for Wellness  2016         47   6.6      40        47       3.0   \n",
       "3          A Dog's Purpose  2017         43   5.2      33        76       4.5   \n",
       "4  A Hologram for the King  2016         58   6.1      70        57       3.0   \n",
       "\n",
       "   n_metascore  n_imdb  n_tmeter  n_audience  nr_metascore  nr_imdb  \\\n",
       "0         3.80    3.60      4.50        3.95           4.0      3.5   \n",
       "1         2.40    3.65      2.50        4.15           2.5      3.5   \n",
       "2         2.35    3.30      2.00        2.35           2.5      3.5   \n",
       "3         2.15    2.60      1.65        3.80           2.0      2.5   \n",
       "4         2.90    3.05      3.50        2.85           3.0      3.0   \n",
       "\n",
       "   nr_tmeter  nr_audience  \n",
       "0        4.5          4.0  \n",
       "1        2.5          4.0  \n",
       "2        2.0          2.5  \n",
       "3        1.5          4.0  \n",
       "4        3.5          3.0  "
      ]
     },
     "metadata": {},
     "output_type": "display_data"
    }
   ],
   "source": [
    "# Display first few rows of both datasets\n",
    "display(previous.head())\n",
    "display(after.head())"
   ]
  },
  {
   "cell_type": "markdown",
   "id": "a55be199",
   "metadata": {},
   "source": [
    "Display the column information of both datasets."
   ]
  },
  {
   "cell_type": "code",
   "execution_count": 4,
   "id": "926452c1",
   "metadata": {},
   "outputs": [
    {
     "name": "stdout",
     "output_type": "stream",
     "text": [
      "<class 'pandas.core.frame.DataFrame'>\n",
      "RangeIndex: 146 entries, 0 to 145\n",
      "Data columns (total 22 columns):\n",
      " #   Column                      Non-Null Count  Dtype  \n",
      "---  ------                      --------------  -----  \n",
      " 0   FILM                        146 non-null    object \n",
      " 1   RottenTomatoes              146 non-null    int64  \n",
      " 2   RottenTomatoes_User         146 non-null    int64  \n",
      " 3   Metacritic                  146 non-null    int64  \n",
      " 4   Metacritic_User             146 non-null    float64\n",
      " 5   IMDB                        146 non-null    float64\n",
      " 6   Fandango_Stars              146 non-null    float64\n",
      " 7   Fandango_Ratingvalue        146 non-null    float64\n",
      " 8   RT_norm                     146 non-null    float64\n",
      " 9   RT_user_norm                146 non-null    float64\n",
      " 10  Metacritic_norm             146 non-null    float64\n",
      " 11  Metacritic_user_nom         146 non-null    float64\n",
      " 12  IMDB_norm                   146 non-null    float64\n",
      " 13  RT_norm_round               146 non-null    float64\n",
      " 14  RT_user_norm_round          146 non-null    float64\n",
      " 15  Metacritic_norm_round       146 non-null    float64\n",
      " 16  Metacritic_user_norm_round  146 non-null    float64\n",
      " 17  IMDB_norm_round             146 non-null    float64\n",
      " 18  Metacritic_user_vote_count  146 non-null    int64  \n",
      " 19  IMDB_user_vote_count        146 non-null    int64  \n",
      " 20  Fandango_votes              146 non-null    int64  \n",
      " 21  Fandango_Difference         146 non-null    float64\n",
      "dtypes: float64(15), int64(6), object(1)\n",
      "memory usage: 25.2+ KB\n"
     ]
    }
   ],
   "source": [
    "previous.info()"
   ]
  },
  {
   "cell_type": "code",
   "execution_count": 5,
   "id": "b8799d8c",
   "metadata": {},
   "outputs": [
    {
     "name": "stdout",
     "output_type": "stream",
     "text": [
      "<class 'pandas.core.frame.DataFrame'>\n",
      "RangeIndex: 214 entries, 0 to 213\n",
      "Data columns (total 15 columns):\n",
      " #   Column        Non-Null Count  Dtype  \n",
      "---  ------        --------------  -----  \n",
      " 0   movie         214 non-null    object \n",
      " 1   year          214 non-null    int64  \n",
      " 2   metascore     214 non-null    int64  \n",
      " 3   imdb          214 non-null    float64\n",
      " 4   tmeter        214 non-null    int64  \n",
      " 5   audience      214 non-null    int64  \n",
      " 6   fandango      214 non-null    float64\n",
      " 7   n_metascore   214 non-null    float64\n",
      " 8   n_imdb        214 non-null    float64\n",
      " 9   n_tmeter      214 non-null    float64\n",
      " 10  n_audience    214 non-null    float64\n",
      " 11  nr_metascore  214 non-null    float64\n",
      " 12  nr_imdb       214 non-null    float64\n",
      " 13  nr_tmeter     214 non-null    float64\n",
      " 14  nr_audience   214 non-null    float64\n",
      "dtypes: float64(10), int64(4), object(1)\n",
      "memory usage: 25.2+ KB\n"
     ]
    }
   ],
   "source": [
    "after.info()"
   ]
  },
  {
   "cell_type": "markdown",
   "id": "59a86971",
   "metadata": {},
   "source": [
    "We briefly analyzing two dataframes: `previous` and `after`. The `previous` dataframe contains information on films released prior to 2016, while the `after` dataframe contains information on films released in 2016 and 2017.\n",
    "\n",
    "The `previous` dataframe has 146 entries and a total of 22 columns. The columns include the film title, ratings from Rotten Tomatoes, Metacritic, IMDb, and Fandango, as well as normalized ratings (rescaled to five-star rating scale) and vote counts.\n",
    "\n",
    "The `after` dataframe has 214 entries and a total of 15 columns. The columns include the movie title, year of release, ratings from Metacritic, IMDb, Rotten Tomatoes, and Fandango, as well as normalized ratings and audience ratings.\n",
    "\n",
    "Both dataframes have non-null values in all columns. However, to make our analysis easier, we will isolate the relevant columns into separate variables. For the `previous` dataframe, we will select the following columns: `'FILM', 'Fandango_Stars', 'Fandango_Ratingvalue', 'Fandango_votes', 'Fandango_Difference'`. For the `after` dataframe, we will select the following columns: `'movie', 'year', 'fandango'`."
   ]
  },
  {
   "cell_type": "code",
   "execution_count": 6,
   "id": "5fb02829",
   "metadata": {},
   "outputs": [
    {
     "data": {
      "text/html": [
       "<div>\n",
       "<style scoped>\n",
       "    .dataframe tbody tr th:only-of-type {\n",
       "        vertical-align: middle;\n",
       "    }\n",
       "\n",
       "    .dataframe tbody tr th {\n",
       "        vertical-align: top;\n",
       "    }\n",
       "\n",
       "    .dataframe thead th {\n",
       "        text-align: right;\n",
       "    }\n",
       "</style>\n",
       "<table border=\"1\" class=\"dataframe\">\n",
       "  <thead>\n",
       "    <tr style=\"text-align: right;\">\n",
       "      <th></th>\n",
       "      <th>FILM</th>\n",
       "      <th>Fandango_Stars</th>\n",
       "      <th>Fandango_Ratingvalue</th>\n",
       "      <th>Fandango_votes</th>\n",
       "      <th>Fandango_Difference</th>\n",
       "    </tr>\n",
       "  </thead>\n",
       "  <tbody>\n",
       "    <tr>\n",
       "      <th>0</th>\n",
       "      <td>Avengers: Age of Ultron (2015)</td>\n",
       "      <td>5.0</td>\n",
       "      <td>4.5</td>\n",
       "      <td>14846</td>\n",
       "      <td>0.5</td>\n",
       "    </tr>\n",
       "    <tr>\n",
       "      <th>1</th>\n",
       "      <td>Cinderella (2015)</td>\n",
       "      <td>5.0</td>\n",
       "      <td>4.5</td>\n",
       "      <td>12640</td>\n",
       "      <td>0.5</td>\n",
       "    </tr>\n",
       "    <tr>\n",
       "      <th>2</th>\n",
       "      <td>Ant-Man (2015)</td>\n",
       "      <td>5.0</td>\n",
       "      <td>4.5</td>\n",
       "      <td>12055</td>\n",
       "      <td>0.5</td>\n",
       "    </tr>\n",
       "    <tr>\n",
       "      <th>3</th>\n",
       "      <td>Do You Believe? (2015)</td>\n",
       "      <td>5.0</td>\n",
       "      <td>4.5</td>\n",
       "      <td>1793</td>\n",
       "      <td>0.5</td>\n",
       "    </tr>\n",
       "    <tr>\n",
       "      <th>4</th>\n",
       "      <td>Hot Tub Time Machine 2 (2015)</td>\n",
       "      <td>3.5</td>\n",
       "      <td>3.0</td>\n",
       "      <td>1021</td>\n",
       "      <td>0.5</td>\n",
       "    </tr>\n",
       "  </tbody>\n",
       "</table>\n",
       "</div>"
      ],
      "text/plain": [
       "                             FILM  Fandango_Stars  Fandango_Ratingvalue  \\\n",
       "0  Avengers: Age of Ultron (2015)             5.0                   4.5   \n",
       "1               Cinderella (2015)             5.0                   4.5   \n",
       "2                  Ant-Man (2015)             5.0                   4.5   \n",
       "3          Do You Believe? (2015)             5.0                   4.5   \n",
       "4   Hot Tub Time Machine 2 (2015)             3.5                   3.0   \n",
       "\n",
       "   Fandango_votes  Fandango_Difference  \n",
       "0           14846                  0.5  \n",
       "1           12640                  0.5  \n",
       "2           12055                  0.5  \n",
       "3            1793                  0.5  \n",
       "4            1021                  0.5  "
      ]
     },
     "metadata": {},
     "output_type": "display_data"
    },
    {
     "data": {
      "text/html": [
       "<div>\n",
       "<style scoped>\n",
       "    .dataframe tbody tr th:only-of-type {\n",
       "        vertical-align: middle;\n",
       "    }\n",
       "\n",
       "    .dataframe tbody tr th {\n",
       "        vertical-align: top;\n",
       "    }\n",
       "\n",
       "    .dataframe thead th {\n",
       "        text-align: right;\n",
       "    }\n",
       "</style>\n",
       "<table border=\"1\" class=\"dataframe\">\n",
       "  <thead>\n",
       "    <tr style=\"text-align: right;\">\n",
       "      <th></th>\n",
       "      <th>movie</th>\n",
       "      <th>year</th>\n",
       "      <th>fandango</th>\n",
       "    </tr>\n",
       "  </thead>\n",
       "  <tbody>\n",
       "    <tr>\n",
       "      <th>0</th>\n",
       "      <td>10 Cloverfield Lane</td>\n",
       "      <td>2016</td>\n",
       "      <td>3.5</td>\n",
       "    </tr>\n",
       "    <tr>\n",
       "      <th>1</th>\n",
       "      <td>13 Hours</td>\n",
       "      <td>2016</td>\n",
       "      <td>4.5</td>\n",
       "    </tr>\n",
       "    <tr>\n",
       "      <th>2</th>\n",
       "      <td>A Cure for Wellness</td>\n",
       "      <td>2016</td>\n",
       "      <td>3.0</td>\n",
       "    </tr>\n",
       "    <tr>\n",
       "      <th>3</th>\n",
       "      <td>A Dog's Purpose</td>\n",
       "      <td>2017</td>\n",
       "      <td>4.5</td>\n",
       "    </tr>\n",
       "    <tr>\n",
       "      <th>4</th>\n",
       "      <td>A Hologram for the King</td>\n",
       "      <td>2016</td>\n",
       "      <td>3.0</td>\n",
       "    </tr>\n",
       "  </tbody>\n",
       "</table>\n",
       "</div>"
      ],
      "text/plain": [
       "                     movie  year  fandango\n",
       "0      10 Cloverfield Lane  2016       3.5\n",
       "1                 13 Hours  2016       4.5\n",
       "2      A Cure for Wellness  2016       3.0\n",
       "3          A Dog's Purpose  2017       4.5\n",
       "4  A Hologram for the King  2016       3.0"
      ]
     },
     "metadata": {},
     "output_type": "display_data"
    }
   ],
   "source": [
    "# Create subset of new dataframes based on the relevant columns\n",
    "fandango_previous = previous[['FILM', 'Fandango_Stars', 'Fandango_Ratingvalue', 'Fandango_votes', 'Fandango_Difference']].copy()\n",
    "fandango_after = after[['movie', 'year', 'fandango']].copy()\n",
    "\n",
    "# View results\n",
    "display(fandango_previous.head())\n",
    "display(fandango_after.head())"
   ]
  },
  {
   "cell_type": "markdown",
   "id": "63b0601b",
   "metadata": {},
   "source": [
    "Let's define the columns used in `fandango_previous` and `fandango_after`:\n",
    "\n",
    "**fandango_previous**\n",
    "- `FILM`: The film in question\n",
    "- `Fandango_Stars`: The number of stars the film had on its Fandango movie page\n",
    "- `Fandango_Ratingvalue`: The Fandango ratingValue for the film, as pulled from the HTML of each page. This is the actual average score the movie obtained\n",
    "- `Fandango_votes`: The number of user votes the film had on Fandango\n",
    "- `Fandango_Difference`: The difference between the presented *Fandango_Stars* and the actual *Fandango_Ratingvalue*\n",
    "\n",
    "**fandango_after**\n",
    "- `movie`: \tThe name of the movie\n",
    "- `year`: The release year of the movie\n",
    "- `fandango`: The Fandango rating of the movie (user score)\n",
    "\n",
    "In order to determine whether Fandango's movie rating system had changed following the analysis conducted by Walt Hickey, we need to sample the population of all movie ratings on Fandango's website at two different points in time: before and after the analysis. The goal is to compare the parameters of the population at these two points in time.\n",
    "\n",
    "To ensure that the samples are representative of the population, we need to make sure that the sampling method is unbiased. However, it appears that the samples used by Walt Hickey and Mircea (Alex) Suciu are not random, but rather purposive.\n",
    "\n",
    "Walt Hickey's sample, which was taken in August 2015, only included movies that met the following criteria:\n",
    "\n",
    "- had at least 30 fan ratings on Fandango's website at the time of sampling\n",
    "- had tickets on sale in 2015\n",
    "\n",
    "This sample is subject to *temporal trends* (e.g., movies in 2015 might have been outstandingly good or bad compared to other years). Moreover, this sample is not representative of the population of interest, as it does not include movies with fewer than 30 fan ratings, or those without tickets on sale in 2015. Therefore, it's unclear whether any conclusions drawn from this sample can be generalized to the larger population.\n",
    "\n",
    "Mircea (Alex) Suciu's sample, on the other hand, was taken in 2016 and only included movies that met the following criteria:\n",
    "\n",
    "- were released in 2016 or later\n",
    "- had a considerable number of votes and reviews (exact number is not specified)\n",
    "\n",
    "While this sample is also subject to temporal trends, it is unclear whether it is representative of the population of interest. It is possible that movies released after 2016 might have different characteristics that are not captured in this sample.\n",
    "\n",
    "It's worth noting that both authors used [purposive sampling](https://youtu.be/JoE_BBiPYEs), which is a non-random sampling method where the researcher selects a sample that fits their research question. While this method is useful for answering specific research questions, it's not well-suited for making generalizations about a population.\n",
    "\n",
    "Overall, the samples used by Walt Hickey and Mircea (Alex) Suciu might not be representative of the population of interest, and as such, it's unclear whether any conclusions drawn from these samples can be generalized to the larger population.\n",
    "\n",
    "## Changing the Goal of our Analysis\n",
    "\n",
    "We are presented with two options at this point: collect new data or adjust the goal of our analysis to work with the existing data. Collecting new data can be time-consuming, and it is currently almost impossible to collect a new sample from before Hickey's analysis.\n",
    "\n",
    "Therefore, it may be more efficient to modify our goal by imposing some limitations on it. Instead of trying to investigate if Fandango's rating system has changed following Hickey's analysis, our new objective is to determine if there are any variations in Fandango's ratings for popular movies in 2015 and 2016. This adjusted goal can be a good approximation of our original goal and is likely to be accomplished using the existing data.\n",
    "\n",
    "## Isolating the Samples We Need\n",
    "\n",
    "Our new goal is to compare Fandango's ratings for popular movies in 2015 with those in 2016. To achieve this, we need to define the term \"popular\" with precision. Following Hickey's benchmark, we will consider a movie as \"popular\" only if it has 30 or more fan ratings on Fandango's website. With this in mind, we can identify two populations of interest that we want to describe and compare:\n",
    "\n",
    "- All Fandango's ratings for popular movies released in 2015.\n",
    "- All Fandango's ratings for popular movies released in 2016.\n",
    "\n",
    "By focusing on popular movies, we can ensure that our samples are representative of the target audience that is likely to use Fandango's rating system. The next step is to explore the characteristics of these two populations and compare them to see if there is any difference between the ratings for popular movies in 2015 and 2016.\n",
    "\n",
    "In our second sample (`fandango_after`), movie popularity is one of the sampling criteria, but it does not provide information about the number of fan ratings. Thus, we need to be cautious and investigate whether this sample truly represents popular movies, i.e., movies with over 30 fan ratings. The lack of information about the number of fan ratings in the sample raises concerns about its representativeness and the accuracy of the conclusions drawn from it.\n",
    "\n",
    "One way to assess the representativeness of this sample is by randomly selecting 10 movies from it and checking the number of fan ratings on Fandango's website. Ideally, at least 8 out of the 10 movies should have 30 or more fan ratings. This approach would help us validate the accuracy of the sample and gain more insights about its representativeness. By doing so, we can determine if the sample accurately represents the population of interest and can be used to draw meaningful conclusions."
   ]
  },
  {
   "cell_type": "code",
   "execution_count": 7,
   "id": "49cda72e",
   "metadata": {},
   "outputs": [
    {
     "data": {
      "text/html": [
       "<div>\n",
       "<style scoped>\n",
       "    .dataframe tbody tr th:only-of-type {\n",
       "        vertical-align: middle;\n",
       "    }\n",
       "\n",
       "    .dataframe tbody tr th {\n",
       "        vertical-align: top;\n",
       "    }\n",
       "\n",
       "    .dataframe thead th {\n",
       "        text-align: right;\n",
       "    }\n",
       "</style>\n",
       "<table border=\"1\" class=\"dataframe\">\n",
       "  <thead>\n",
       "    <tr style=\"text-align: right;\">\n",
       "      <th></th>\n",
       "      <th>movie</th>\n",
       "      <th>year</th>\n",
       "      <th>fandango</th>\n",
       "    </tr>\n",
       "  </thead>\n",
       "  <tbody>\n",
       "    <tr>\n",
       "      <th>108</th>\n",
       "      <td>Mechanic: Resurrection</td>\n",
       "      <td>2016</td>\n",
       "      <td>4.0</td>\n",
       "    </tr>\n",
       "    <tr>\n",
       "      <th>206</th>\n",
       "      <td>Warcraft</td>\n",
       "      <td>2016</td>\n",
       "      <td>4.0</td>\n",
       "    </tr>\n",
       "    <tr>\n",
       "      <th>106</th>\n",
       "      <td>Max Steel</td>\n",
       "      <td>2016</td>\n",
       "      <td>3.5</td>\n",
       "    </tr>\n",
       "    <tr>\n",
       "      <th>107</th>\n",
       "      <td>Me Before You</td>\n",
       "      <td>2016</td>\n",
       "      <td>4.5</td>\n",
       "    </tr>\n",
       "    <tr>\n",
       "      <th>51</th>\n",
       "      <td>Fantastic Beasts and Where to Find Them</td>\n",
       "      <td>2016</td>\n",
       "      <td>4.5</td>\n",
       "    </tr>\n",
       "    <tr>\n",
       "      <th>33</th>\n",
       "      <td>Cell</td>\n",
       "      <td>2016</td>\n",
       "      <td>3.0</td>\n",
       "    </tr>\n",
       "    <tr>\n",
       "      <th>59</th>\n",
       "      <td>Genius</td>\n",
       "      <td>2016</td>\n",
       "      <td>3.5</td>\n",
       "    </tr>\n",
       "    <tr>\n",
       "      <th>152</th>\n",
       "      <td>Sully</td>\n",
       "      <td>2016</td>\n",
       "      <td>4.5</td>\n",
       "    </tr>\n",
       "    <tr>\n",
       "      <th>4</th>\n",
       "      <td>A Hologram for the King</td>\n",
       "      <td>2016</td>\n",
       "      <td>3.0</td>\n",
       "    </tr>\n",
       "    <tr>\n",
       "      <th>31</th>\n",
       "      <td>Captain America: Civil War</td>\n",
       "      <td>2016</td>\n",
       "      <td>4.5</td>\n",
       "    </tr>\n",
       "  </tbody>\n",
       "</table>\n",
       "</div>"
      ],
      "text/plain": [
       "                                       movie  year  fandango\n",
       "108                   Mechanic: Resurrection  2016       4.0\n",
       "206                                 Warcraft  2016       4.0\n",
       "106                                Max Steel  2016       3.5\n",
       "107                            Me Before You  2016       4.5\n",
       "51   Fantastic Beasts and Where to Find Them  2016       4.5\n",
       "33                                      Cell  2016       3.0\n",
       "59                                    Genius  2016       3.5\n",
       "152                                    Sully  2016       4.5\n",
       "4                    A Hologram for the King  2016       3.0\n",
       "31                Captain America: Civil War  2016       4.5"
      ]
     },
     "execution_count": 7,
     "metadata": {},
     "output_type": "execute_result"
    }
   ],
   "source": [
    "fandango_after.sample(10, random_state=1)"
   ]
  },
  {
   "cell_type": "markdown",
   "id": "7ffa5336",
   "metadata": {},
   "source": [
    "In our previous step, we utilized a random seed value of 1. Using a fixed seed value is a good practice in sampling because it suggests that we did not manipulate the random seed to achieve a desired sample outcome. By using a fixed seed value, we eliminate any potential for bias in the sample selection process.\n",
    "\n",
    "As of April 2018, the following are the fan ratings that have been obtained:\n",
    "\n",
    "| Movie                                     | Fan rating |\n",
    "| ----------------------------------------- | ---------- |\n",
    "| Mechanic: Resurrection                    | 2247       |\n",
    "| Warcraft                                  | 7271       |\n",
    "| Max Steel                                 | 493        |\n",
    "| Me Before You                             | 5263       |\n",
    "| Fantastic Beasts and Where to Find Them   | 13400      |\n",
    "| Cell                                      | 17         |\n",
    "| Genius                                    | 127        |\n",
    "| Sully                                     | 11877      |\n",
    "| A Hologram for the King                   | 500        |\n",
    "| Captain America: Civil War                | 35057      |\n",
    "\n",
    "90% of the movies in our sample are popular. This is enough for us to move forward with a bit more confidence.\n",
    "\n",
    "Let's also double-check the other dataset (`fandango_previous`) for popular movies. The documentation states clearly that there are only movies with at least 30 fan ratings, but it should take only a couple of seconds to double-check here. As previously mentioned, the column `Fandango_votes` refers to the number of user votes a film received on Fandango."
   ]
  },
  {
   "cell_type": "code",
   "execution_count": 8,
   "id": "6e434370",
   "metadata": {},
   "outputs": [
    {
     "data": {
      "text/plain": [
       "0"
      ]
     },
     "execution_count": 8,
     "metadata": {},
     "output_type": "execute_result"
    }
   ],
   "source": [
    "sum(fandango_previous['Fandango_votes'] < 30)"
   ]
  },
  {
   "cell_type": "markdown",
   "id": "ba274d1a",
   "metadata": {},
   "source": [
    "Upon inspecting the two datasets, it's apparent that some movies have a release year that is not 2015 or 2016. To ensure that our analysis is based on the intended criteria, we will need to filter the movies and only include those that were released in 2015 and 2016.\n",
    "\n",
    "We will begin with Hickey's dataset and filter out the movies released in 2015. While there is no separate column for the release year, we can extract the information from the `FILM` column's strings."
   ]
  },
  {
   "cell_type": "code",
   "execution_count": 9,
   "id": "5c11c8ec",
   "metadata": {},
   "outputs": [
    {
     "data": {
      "text/html": [
       "<div>\n",
       "<style scoped>\n",
       "    .dataframe tbody tr th:only-of-type {\n",
       "        vertical-align: middle;\n",
       "    }\n",
       "\n",
       "    .dataframe tbody tr th {\n",
       "        vertical-align: top;\n",
       "    }\n",
       "\n",
       "    .dataframe thead th {\n",
       "        text-align: right;\n",
       "    }\n",
       "</style>\n",
       "<table border=\"1\" class=\"dataframe\">\n",
       "  <thead>\n",
       "    <tr style=\"text-align: right;\">\n",
       "      <th></th>\n",
       "      <th>FILM</th>\n",
       "      <th>Fandango_Stars</th>\n",
       "      <th>Fandango_Ratingvalue</th>\n",
       "      <th>Fandango_votes</th>\n",
       "      <th>Fandango_Difference</th>\n",
       "    </tr>\n",
       "  </thead>\n",
       "  <tbody>\n",
       "    <tr>\n",
       "      <th>0</th>\n",
       "      <td>Avengers: Age of Ultron (2015)</td>\n",
       "      <td>5.0</td>\n",
       "      <td>4.5</td>\n",
       "      <td>14846</td>\n",
       "      <td>0.5</td>\n",
       "    </tr>\n",
       "    <tr>\n",
       "      <th>1</th>\n",
       "      <td>Cinderella (2015)</td>\n",
       "      <td>5.0</td>\n",
       "      <td>4.5</td>\n",
       "      <td>12640</td>\n",
       "      <td>0.5</td>\n",
       "    </tr>\n",
       "  </tbody>\n",
       "</table>\n",
       "</div>"
      ],
      "text/plain": [
       "                             FILM  Fandango_Stars  Fandango_Ratingvalue  \\\n",
       "0  Avengers: Age of Ultron (2015)             5.0                   4.5   \n",
       "1               Cinderella (2015)             5.0                   4.5   \n",
       "\n",
       "   Fandango_votes  Fandango_Difference  \n",
       "0           14846                  0.5  \n",
       "1           12640                  0.5  "
      ]
     },
     "execution_count": 9,
     "metadata": {},
     "output_type": "execute_result"
    }
   ],
   "source": [
    "fandango_previous.head(2)"
   ]
  },
  {
   "cell_type": "code",
   "execution_count": 10,
   "id": "4c45662f",
   "metadata": {},
   "outputs": [
    {
     "data": {
      "text/html": [
       "<div>\n",
       "<style scoped>\n",
       "    .dataframe tbody tr th:only-of-type {\n",
       "        vertical-align: middle;\n",
       "    }\n",
       "\n",
       "    .dataframe tbody tr th {\n",
       "        vertical-align: top;\n",
       "    }\n",
       "\n",
       "    .dataframe thead th {\n",
       "        text-align: right;\n",
       "    }\n",
       "</style>\n",
       "<table border=\"1\" class=\"dataframe\">\n",
       "  <thead>\n",
       "    <tr style=\"text-align: right;\">\n",
       "      <th></th>\n",
       "      <th>FILM</th>\n",
       "      <th>Fandango_Stars</th>\n",
       "      <th>Fandango_Ratingvalue</th>\n",
       "      <th>Fandango_votes</th>\n",
       "      <th>Fandango_Difference</th>\n",
       "      <th>Year</th>\n",
       "    </tr>\n",
       "  </thead>\n",
       "  <tbody>\n",
       "    <tr>\n",
       "      <th>0</th>\n",
       "      <td>Avengers: Age of Ultron (2015)</td>\n",
       "      <td>5.0</td>\n",
       "      <td>4.5</td>\n",
       "      <td>14846</td>\n",
       "      <td>0.5</td>\n",
       "      <td>2015</td>\n",
       "    </tr>\n",
       "    <tr>\n",
       "      <th>1</th>\n",
       "      <td>Cinderella (2015)</td>\n",
       "      <td>5.0</td>\n",
       "      <td>4.5</td>\n",
       "      <td>12640</td>\n",
       "      <td>0.5</td>\n",
       "      <td>2015</td>\n",
       "    </tr>\n",
       "  </tbody>\n",
       "</table>\n",
       "</div>"
      ],
      "text/plain": [
       "                             FILM  Fandango_Stars  Fandango_Ratingvalue  \\\n",
       "0  Avengers: Age of Ultron (2015)             5.0                   4.5   \n",
       "1               Cinderella (2015)             5.0                   4.5   \n",
       "\n",
       "   Fandango_votes  Fandango_Difference  Year  \n",
       "0           14846                  0.5  2015  \n",
       "1           12640                  0.5  2015  "
      ]
     },
     "execution_count": 10,
     "metadata": {},
     "output_type": "execute_result"
    }
   ],
   "source": [
    "fandango_previous['Year'] = fandango_previous['FILM'].str[-5:-1]\n",
    "fandango_previous.head(2)"
   ]
  },
  {
   "cell_type": "markdown",
   "id": "c4f4b15c",
   "metadata": {},
   "source": [
    "Let's examine the frequency distribution of the `Year` column to identify the number of movies released in each year, and then isolate only the movies released in 2015 for further analysis."
   ]
  },
  {
   "cell_type": "code",
   "execution_count": 11,
   "id": "bad1dceb",
   "metadata": {},
   "outputs": [
    {
     "data": {
      "text/plain": [
       "2015    129\n",
       "2014     17\n",
       "Name: Year, dtype: int64"
      ]
     },
     "execution_count": 11,
     "metadata": {},
     "output_type": "execute_result"
    }
   ],
   "source": [
    "fandango_previous['Year'].value_counts()"
   ]
  },
  {
   "cell_type": "code",
   "execution_count": 12,
   "id": "def5d0ae",
   "metadata": {},
   "outputs": [
    {
     "data": {
      "text/plain": [
       "2015    129\n",
       "Name: Year, dtype: int64"
      ]
     },
     "execution_count": 12,
     "metadata": {},
     "output_type": "execute_result"
    }
   ],
   "source": [
    "fandango_2015 = fandango_previous[fandango_previous['Year'] == '2015']\n",
    "fandango_2015['Year'].value_counts()"
   ]
  },
  {
   "cell_type": "markdown",
   "id": "76ab2d5f",
   "metadata": {},
   "source": [
    "Excellent! We can now proceed to isolate the movies in the other dataset."
   ]
  },
  {
   "cell_type": "code",
   "execution_count": 13,
   "id": "601bc3b1",
   "metadata": {},
   "outputs": [
    {
     "data": {
      "text/html": [
       "<div>\n",
       "<style scoped>\n",
       "    .dataframe tbody tr th:only-of-type {\n",
       "        vertical-align: middle;\n",
       "    }\n",
       "\n",
       "    .dataframe tbody tr th {\n",
       "        vertical-align: top;\n",
       "    }\n",
       "\n",
       "    .dataframe thead th {\n",
       "        text-align: right;\n",
       "    }\n",
       "</style>\n",
       "<table border=\"1\" class=\"dataframe\">\n",
       "  <thead>\n",
       "    <tr style=\"text-align: right;\">\n",
       "      <th></th>\n",
       "      <th>movie</th>\n",
       "      <th>year</th>\n",
       "      <th>fandango</th>\n",
       "    </tr>\n",
       "  </thead>\n",
       "  <tbody>\n",
       "    <tr>\n",
       "      <th>0</th>\n",
       "      <td>10 Cloverfield Lane</td>\n",
       "      <td>2016</td>\n",
       "      <td>3.5</td>\n",
       "    </tr>\n",
       "    <tr>\n",
       "      <th>1</th>\n",
       "      <td>13 Hours</td>\n",
       "      <td>2016</td>\n",
       "      <td>4.5</td>\n",
       "    </tr>\n",
       "  </tbody>\n",
       "</table>\n",
       "</div>"
      ],
      "text/plain": [
       "                 movie  year  fandango\n",
       "0  10 Cloverfield Lane  2016       3.5\n",
       "1             13 Hours  2016       4.5"
      ]
     },
     "execution_count": 13,
     "metadata": {},
     "output_type": "execute_result"
    }
   ],
   "source": [
    "fandango_after.head(2)"
   ]
  },
  {
   "cell_type": "code",
   "execution_count": 14,
   "id": "07bbd34b",
   "metadata": {},
   "outputs": [
    {
     "data": {
      "text/plain": [
       "2016    191\n",
       "2017     23\n",
       "Name: year, dtype: int64"
      ]
     },
     "execution_count": 14,
     "metadata": {},
     "output_type": "execute_result"
    }
   ],
   "source": [
    "fandango_after['year'].value_counts()"
   ]
  },
  {
   "cell_type": "code",
   "execution_count": 15,
   "id": "90dde1ea",
   "metadata": {},
   "outputs": [
    {
     "data": {
      "text/plain": [
       "2016    191\n",
       "Name: year, dtype: int64"
      ]
     },
     "execution_count": 15,
     "metadata": {},
     "output_type": "execute_result"
    }
   ],
   "source": [
    "fandango_2016 = fandango_after[fandango_after['year'] == 2016]\n",
    "fandango_2016['year'].value_counts()"
   ]
  },
  {
   "cell_type": "markdown",
   "id": "999a6df1",
   "metadata": {},
   "source": [
    "## Comparing Distribution Shapes for 2015 and 2016\n",
    "\n",
    "Now that we have completed the preliminary steps, we can proceed to analyze the two previously isolated samples. Our aim remains to find out if there are any noticeable differences between the ratings given by Fandango for popular movies in 2015 and those for popular movies in 2016.\n",
    "\n",
    "While there are various methods of performing the analysis, let's begin with a simple comparison of the distributions' shapes for both samples at a higher level."
   ]
  },
  {
   "cell_type": "code",
   "execution_count": 16,
   "id": "c155a2e5",
   "metadata": {},
   "outputs": [
    {
     "data": {
      "text/html": [
       "<div>\n",
       "<style scoped>\n",
       "    .dataframe tbody tr th:only-of-type {\n",
       "        vertical-align: middle;\n",
       "    }\n",
       "\n",
       "    .dataframe tbody tr th {\n",
       "        vertical-align: top;\n",
       "    }\n",
       "\n",
       "    .dataframe thead th {\n",
       "        text-align: right;\n",
       "    }\n",
       "</style>\n",
       "<table border=\"1\" class=\"dataframe\">\n",
       "  <thead>\n",
       "    <tr style=\"text-align: right;\">\n",
       "      <th></th>\n",
       "      <th>FILM</th>\n",
       "      <th>Fandango_Stars</th>\n",
       "      <th>Fandango_Ratingvalue</th>\n",
       "      <th>Fandango_votes</th>\n",
       "      <th>Fandango_Difference</th>\n",
       "      <th>Year</th>\n",
       "    </tr>\n",
       "  </thead>\n",
       "  <tbody>\n",
       "    <tr>\n",
       "      <th>0</th>\n",
       "      <td>Avengers: Age of Ultron (2015)</td>\n",
       "      <td>5.0</td>\n",
       "      <td>4.5</td>\n",
       "      <td>14846</td>\n",
       "      <td>0.5</td>\n",
       "      <td>2015</td>\n",
       "    </tr>\n",
       "  </tbody>\n",
       "</table>\n",
       "</div>"
      ],
      "text/plain": [
       "                             FILM  Fandango_Stars  Fandango_Ratingvalue  \\\n",
       "0  Avengers: Age of Ultron (2015)             5.0                   4.5   \n",
       "\n",
       "   Fandango_votes  Fandango_Difference  Year  \n",
       "0           14846                  0.5  2015  "
      ]
     },
     "metadata": {},
     "output_type": "display_data"
    },
    {
     "data": {
      "text/html": [
       "<div>\n",
       "<style scoped>\n",
       "    .dataframe tbody tr th:only-of-type {\n",
       "        vertical-align: middle;\n",
       "    }\n",
       "\n",
       "    .dataframe tbody tr th {\n",
       "        vertical-align: top;\n",
       "    }\n",
       "\n",
       "    .dataframe thead th {\n",
       "        text-align: right;\n",
       "    }\n",
       "</style>\n",
       "<table border=\"1\" class=\"dataframe\">\n",
       "  <thead>\n",
       "    <tr style=\"text-align: right;\">\n",
       "      <th></th>\n",
       "      <th>movie</th>\n",
       "      <th>year</th>\n",
       "      <th>fandango</th>\n",
       "    </tr>\n",
       "  </thead>\n",
       "  <tbody>\n",
       "    <tr>\n",
       "      <th>0</th>\n",
       "      <td>10 Cloverfield Lane</td>\n",
       "      <td>2016</td>\n",
       "      <td>3.5</td>\n",
       "    </tr>\n",
       "  </tbody>\n",
       "</table>\n",
       "</div>"
      ],
      "text/plain": [
       "                 movie  year  fandango\n",
       "0  10 Cloverfield Lane  2016       3.5"
      ]
     },
     "metadata": {},
     "output_type": "display_data"
    }
   ],
   "source": [
    "display(fandango_2015.head(1))\n",
    "display(fandango_2016.head(1))"
   ]
  },
  {
   "cell_type": "code",
   "execution_count": 17,
   "id": "86475235",
   "metadata": {},
   "outputs": [
    {
     "data": {
      "text/plain": [
       "4.5    49\n",
       "4.0    37\n",
       "3.5    23\n",
       "3.0    11\n",
       "5.0     9\n",
       "Name: Fandango_Stars, dtype: int64"
      ]
     },
     "execution_count": 17,
     "metadata": {},
     "output_type": "execute_result"
    }
   ],
   "source": [
    "fandango_2015.Fandango_Stars.value_counts()"
   ]
  },
  {
   "cell_type": "code",
   "execution_count": 18,
   "id": "f207e3b2",
   "metadata": {},
   "outputs": [
    {
     "data": {
      "image/png": "[encoded data removed]",
      "text/plain": [
       "<Figure size 1000x500 with 1 Axes>"
      ]
     },
     "metadata": {},
     "output_type": "display_data"
    }
   ],
   "source": [
    "plt.style.use('fivethirtyeight')\n",
    "plt.figure(figsize=(10, 5))\n",
    "\n",
    "fandango_2015['Fandango_Stars'].plot.kde(label='2015', legend=True)\n",
    "fandango_2016['fandango'].plot.kde(label='2016', legend=True)\n",
    "\n",
    "\n",
    "plt.title('Comparison of Fandango Movie Ratings Distribution: 2015 vs 2016',\n",
    "          size=20, weight='bold')\n",
    "plt.xlabel('Stars')\n",
    "plt.xlim(0, 5)\n",
    "plt.xticks(np.arange(0, 5.1, .5))\n",
    "\n",
    "plt.show()"
   ]
  },
  {
   "cell_type": "markdown",
   "id": "01a50de9",
   "metadata": {},
   "source": [
    "The graph above reveals two key observations:\n",
    "\n",
    "- Both distributions are strongly left-skewed.\n",
    "- The 2016 distribution is slightly shifted to the left compared to the 2015 distribution.\n",
    "\n",
    "The left-skew indicates that Fandango's movie ratings are mostly high and very high, which is questionable given that Fandango sells movie tickets. Further investigation is needed to verify this claim — ideally it would be best to investigate this further in a separate project as it is not relevant to our current analysis goal.\n",
    "\n",
    "The slight left shift of the 2016 distribution is significant for our analysis. It demonstrates that movie ratings were a little lower in 2016 than in 2015, indicating a potential difference between Fandango's ratings for popular movies in 2015 and those in 2016. We can also determine the direction of the difference: the ratings in 2016 were slightly lower than those in 2015.\n",
    "\n",
    "## Comparing Relative Frequencies\n",
    "\n",
    "The above kernel density plots show a clear difference between the two distributions. While they were helpful in comparing the distributions, we now need to delve into more specific information. One approach is to analyze the frequency tables of the two distributions and examine the numbers.\n",
    "\n",
    "However, since the datasets contain a different number of movies, we need to normalize the tables and express the values in percentages instead."
   ]
  },
  {
   "cell_type": "code",
   "execution_count": 19,
   "id": "fa0f87cb",
   "metadata": {},
   "outputs": [
    {
     "name": "stdout",
     "output_type": "stream",
     "text": [
      "2015 ratings distribution\n"
     ]
    },
    {
     "data": {
      "text/plain": [
       "3.0     8.527132\n",
       "3.5    17.829457\n",
       "4.0    28.682171\n",
       "4.5    37.984496\n",
       "5.0     6.976744\n",
       "Name: Fandango_Stars, dtype: float64"
      ]
     },
     "execution_count": 19,
     "metadata": {},
     "output_type": "execute_result"
    }
   ],
   "source": [
    "print('2015 ratings distribution')\n",
    "fandango_2015['Fandango_Stars'].value_counts(normalize=True).sort_index() * 100"
   ]
  },
  {
   "cell_type": "code",
   "execution_count": 20,
   "id": "16f6a3a5",
   "metadata": {},
   "outputs": [
    {
     "name": "stdout",
     "output_type": "stream",
     "text": [
      "2016 ratings distribution\n"
     ]
    },
    {
     "data": {
      "text/plain": [
       "2.5     3.141361\n",
       "3.0     7.329843\n",
       "3.5    24.083770\n",
       "4.0    40.314136\n",
       "4.5    24.607330\n",
       "5.0     0.523560\n",
       "Name: fandango, dtype: float64"
      ]
     },
     "execution_count": 20,
     "metadata": {},
     "output_type": "execute_result"
    }
   ],
   "source": [
    "print('2016 ratings distribution')\n",
    "fandango_2016['fandango'].value_counts(normalize=True).sort_index() * 100"
   ]
  },
  {
   "cell_type": "markdown",
   "id": "2b3acc06",
   "metadata": {},
   "source": [
    "The analysis of the frequency tables shows the following:\n",
    "\n",
    "- Very high ratings (4.5 and 5 stars) had significantly lower percentages in 2016 than in 2015.\n",
    "- In 2016, under 1% of the movies had a perfect rating of 5 stars, compared to 2015 when the percentage was close to 7%.\n",
    "- Ratings of 4.5 were more popular in 2015, with approximately 13% more movies rated with a 4.5 in 2015 compared to 2016.\n",
    "- The difference between the two frequency distributions is also reflected in the minimum ratings, with 2016 having a lower minimum rating of 2.5 stars compared to 2015's minimum of 3 stars.\n",
    "\n",
    "Additionally,\n",
    "\n",
    "- For some other ratings, the percentage went up in 2016.\n",
    "- There was a greater percentage of movies in 2016 that received 3.5 and 4 stars, compared to 2015.\n",
    "- 3.5 and 4.0 are high ratings, and this challenges the direction of the change seen on the kernel density plots.\n",
    "\n",
    "## Determining the Direction of the Change\n",
    "\n",
    "To better understand the direction of the difference between the two distributions, we will calculate summary statistics. This will give us a more precise picture of the direction, which is not as clear as it was on the kernel density plots. We will calculate the mean, median, and mode for each distribution of movie ratings and compare these statistics. Additionally, we will generate a grouped bar plot to visually compare how the mean, median, and mode varied between 2015 and 2016."
   ]
  },
  {
   "cell_type": "code",
   "execution_count": 21,
   "id": "d2d87354",
   "metadata": {},
   "outputs": [
    {
     "data": {
      "text/html": [
       "<div>\n",
       "<style scoped>\n",
       "    .dataframe tbody tr th:only-of-type {\n",
       "        vertical-align: middle;\n",
       "    }\n",
       "\n",
       "    .dataframe tbody tr th {\n",
       "        vertical-align: top;\n",
       "    }\n",
       "\n",
       "    .dataframe thead th {\n",
       "        text-align: right;\n",
       "    }\n",
       "</style>\n",
       "<table border=\"1\" class=\"dataframe\">\n",
       "  <thead>\n",
       "    <tr style=\"text-align: right;\">\n",
       "      <th></th>\n",
       "      <th>2015</th>\n",
       "      <th>2016</th>\n",
       "    </tr>\n",
       "  </thead>\n",
       "  <tbody>\n",
       "    <tr>\n",
       "      <th>mean</th>\n",
       "      <td>4.085271</td>\n",
       "      <td>3.887435</td>\n",
       "    </tr>\n",
       "    <tr>\n",
       "      <th>median</th>\n",
       "      <td>4.000000</td>\n",
       "      <td>4.000000</td>\n",
       "    </tr>\n",
       "    <tr>\n",
       "      <th>mode</th>\n",
       "      <td>4.500000</td>\n",
       "      <td>4.000000</td>\n",
       "    </tr>\n",
       "  </tbody>\n",
       "</table>\n",
       "</div>"
      ],
      "text/plain": [
       "            2015      2016\n",
       "mean    4.085271  3.887435\n",
       "median  4.000000  4.000000\n",
       "mode    4.500000  4.000000"
      ]
     },
     "execution_count": 21,
     "metadata": {},
     "output_type": "execute_result"
    }
   ],
   "source": [
    "# Fandango movies 2015\n",
    "mean_2015 = fandango_2015['Fandango_Stars'].mean()\n",
    "median_2015 = fandango_2015['Fandango_Stars'].median()\n",
    "mode_2015 = fandango_2015['Fandango_Stars'].mode()[0] # returns series therefore, we want to extract the value at index 0\n",
    "\n",
    "# Fandango movies 2016\n",
    "mean_2016 = fandango_2016['fandango'].mean()\n",
    "median_2016 = fandango_2016['fandango'].median()\n",
    "mode_2016 = fandango_2016['fandango'].mode()[0]\n",
    "\n",
    "# Store the above values in the dataframe\n",
    "stats_df = pd.DataFrame({'2015': [mean_2015, median_2015, mode_2015],\n",
    "                         '2016': [mean_2016, median_2016, mode_2016]},\n",
    "                         index=['mean', 'median', 'mode'])\n",
    "stats_df"
   ]
  },
  {
   "cell_type": "code",
   "execution_count": 22,
   "id": "3c6f38d9",
   "metadata": {},
   "outputs": [
    {
     "data": {
      "image/png": "[encoded data removed]",
      "text/plain": [
       "<Figure size 800x500 with 1 Axes>"
      ]
     },
     "metadata": {},
     "output_type": "display_data"
    }
   ],
   "source": [
    "# Visualize the summary statistics using bar plot\n",
    "plt.figure(figsize=(8, 5))\n",
    "stats_df['2015'].plot.bar(color='#0066ff', align='center', label='2015', width=.25)\n",
    "stats_df['2016'].plot.bar(color='#cc0000', align='edge', label='2016', width=.25, rot=0)\n",
    "plt.title('Comparing summary statistics: 2015 vs 2016', y=1.07)\n",
    "plt.ylabel('Stars')\n",
    "plt.ylim(0,5.5)\n",
    "plt.yticks(np.arange(0,5.1,.5))\n",
    "plt.legend(loc='upper center', framealpha = 0)\n",
    "\n",
    "plt.show()"
   ]
  },
  {
   "cell_type": "markdown",
   "id": "fb86627f",
   "metadata": {},
   "source": [
    "In 2016, the mean rating was lower by around 0.2 compared to 2015. This corresponds to a decrease of nearly 5% relative to the mean rating in 2015."
   ]
  },
  {
   "cell_type": "code",
   "execution_count": 23,
   "id": "c738f2d7",
   "metadata": {},
   "outputs": [
    {
     "name": "stdout",
     "output_type": "stream",
     "text": [
      "Ratings in 2015 decreased by 5%.\n"
     ]
    }
   ],
   "source": [
    "pct_dec = (stats_df.loc['mean'][0] - stats_df.loc['mean'][1]) / stats_df.loc['mean'][0] * 100\n",
    "print(f'Ratings in 2015 decreased by {round(pct_dec)}%.')"
   ]
  },
  {
   "cell_type": "markdown",
   "id": "6d25bd11",
   "metadata": {},
   "source": [
    "The mode for 2016 is 0.5 lower than that of 2015, while the median is the same. This, combined with the mean, confirms that popular movies released in 2016 were rated slightly lower on average than those released in 2015, confirming the direction of the change observed on the kernel density plot.\n",
    "\n",
    "## Conclusion\n",
    "\n",
    "Our analysis revealed that there is a noticeable difference between the ratings of popular movies on Fandango in 2015 and 2016. Specifically, the average ratings of popular movies in 2016 were lower compared to those in 2015. These findings confirm a suspicious trend identified by Hickey, suggesting that Fandango's rating system was biased towards higher ratings, and that the ratings for popular movies in 2015 were artificially inflated.\n",
    "\n",
    "However, it's challenging to establish with certainty what caused the change. While the observed drop in ratings could indicate that Fandango has fixed the rating system, other potential factors such as differences in the quality of movies or audience preferences could also contribute to the difference. Therefore, further research and analysis would be needed to determine the cause of the observed difference in ratings."
   ]
  }
 ],
 "metadata": {
  "kernelspec": {
   "display_name": "Python 3 (ipykernel)",
   "language": "python",
   "name": "python3"
  },
  "language_info": {
   "codemirror_mode": {
    "name": "ipython",
    "version": 3
   },
   "file_extension": ".py",
   "mimetype": "text/x-python",
   "name": "python",
   "nbconvert_exporter": "python",
   "pygments_lexer": "ipython3",
   "version": "3.10.4"
  }
 },
 "nbformat": 4,
 "nbformat_minor": 5
}
