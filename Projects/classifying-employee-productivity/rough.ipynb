{
 "cells": [
  {
   "cell_type": "markdown",
   "id": "6736e675",
   "metadata": {},
   "source": [
    "# Steps to Complete\n",
    "\n",
    "- Compare relevant columns with each other (i.e., `targeted_productivity` vs. `actual_productivity`)\n",
    "\n",
    "\n",
    "For the second objective, now that we've explored every column, we'll start asking questions about the columns to select the most important ones for our decision tree. Although this process is open-ended, and it changes with each unique dataset, don't get discouraged! Good data cleaning takes time and patience. To get you started, here are some general questions to guide your effort:\n",
    "\n",
    "- Does the column contain data that is similar enough to another column that we only need to keep one?\n",
    "- Is the column providing me with information that would give valuable insights in a decision tree, or is it superfluous and/or unrelated?\n",
    "\n",
    "\n",
    "\n",
    "There are a few additional data cleaning steps we need to take before creating our model, but we will save those for the next screen. For now, let's start cleaning our data!"
   ]
  },
  {
   "cell_type": "code",
   "execution_count": null,
   "id": "f4ee5b04",
   "metadata": {},
   "outputs": [],
   "source": []
  },
  {
   "cell_type": "markdown",
   "id": "61d4ef80",
   "metadata": {},
   "source": [
    "Great, now that you have your cleaned and preprocessed data, you can start exploring and analyzing it through exploratory data analysis (EDA) techniques. Here are some steps you can follow:\n",
    "\n",
    "1. Univariate Analysis: Start by exploring each column individually. You can use histograms, box plots, bar plots, or any other visualization technique that you find appropriate for each column.\n",
    "2. Bivariate Analysis: Once you have explored each column individually, you can start looking at the relationships between pairs of columns. You can use scatter plots, heatmaps, or correlation matrices to visualize these relationships.\n",
    "3. Multivariate Analysis: Next, you can start exploring the relationships between multiple columns. You can use techniques like pair plots, heatmaps, or scatter matrix to visualize these relationships.\n",
    "4. Feature Engineering: Based on your analysis, you might find that some columns are not useful or redundant, while some others might need to be transformed or combined. You can create new features that are more relevant to your problem, drop columns that are not useful, or encode categorical variables.\n",
    "5. Outlier Detection: You can also look for outliers or extreme values that might affect your model's performance. You can use box plots, scatter plots, or other visualization techniques to identify outliers and decide whether to remove them or not.\n",
    "6. Imbalanced Classes: Since your target variable is binary, you should also check if your classes are imbalanced or not. If they are, you can use techniques like oversampling or undersampling to balance them.\n",
    "7. Dimensionality Reduction: Lastly, you can use dimensionality reduction techniques like PCA or t-SNE to visualize your data in a lower-dimensional space and identify patterns or clusters.\n",
    "\n",
    "Remember that EDA is an iterative process, and you might need to go back and forth between these steps to refine your analysis and explore new hypotheses."
   ]
  },
  {
   "cell_type": "code",
   "execution_count": null,
   "id": "9b836432",
   "metadata": {},
   "outputs": [],
   "source": []
  },
  {
   "cell_type": "code",
   "execution_count": null,
   "id": "45a9712a",
   "metadata": {},
   "outputs": [],
   "source": []
  }
 ],
 "metadata": {
  "kernelspec": {
   "display_name": "Python 3 (ipykernel)",
   "language": "python",
   "name": "python3"
  },
  "language_info": {
   "codemirror_mode": {
    "name": "ipython",
    "version": 3
   },
   "file_extension": ".py",
   "mimetype": "text/x-python",
   "name": "python",
   "nbconvert_exporter": "python",
   "pygments_lexer": "ipython3",
   "version": "3.10.4"
  }
 },
 "nbformat": 4,
 "nbformat_minor": 5
}
