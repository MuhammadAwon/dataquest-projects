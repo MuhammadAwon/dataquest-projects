{
 "cells": [
  {
   "cell_type": "markdown",
   "id": "7938b015",
   "metadata": {},
   "source": [
    "# Predicting Medical Insurance Costs\n",
    "\n",
    "<p style=\"text-align:center;\">\n",
    "  <img src=\"https://images.unsplash.com/photo-1624023731031-042ed4fb13b3?ixlib=rb-4.0.3&ixid=MnwxMjA3fDB8MHxwaG90by1wYWdlfHx8fGVufDB8fHx8&auto=format&fit=crop&w=1032&q=80\" width=\"800\" height=\"100\">\n",
    "  <br>\n",
    "  Source: <a href=\"https://unsplash.com/\">Unsplash</a>\n",
    "</p>\n",
    "\n",
    "In this project, we will analyze the [Medical Cost Data Set](https://www.kaggle.com/datasets/mirichoi0218/insurance?resource=download) available on Kaggle. The dataset includes details about individual medical insurance bills, along with demographic and personal characteristics of the recipients. Our primary focus will be on developing a predictive model to determine the relationship between these various attributes and the total medical cost.\n",
    "\n",
    "Given that the cost is a continuous and positive variable, we will use linear regression to construct the best possible predictive model. The aim is to generate an accurate prediction of the medical costs based on patient information. Accurate cost predictions play a crucial role in hospitals' ability to anticipate revenue and plan necessary medical procedures for their patient population.\n",
    "\n",
    "## Data Overview\n",
    "\n",
    "Let's take a closer look at the columns used in the dataset:\n",
    "\n",
    "- `age`: Age of primary beneficiary\n",
    "- `sex`: Insurance contractor gender, female, male\n",
    "- `bmi`: Body mass index, providing an understanding of body, weights that are relatively high or low relative to height, objective index of body weight (kg / m ^ 2) using the ratio of height to weight, ideally 18.5 to 24.9\n",
    "- `children`: Number of children covered by health insurance / Number of dependents\n",
    "- `smoker`: Smoking (yes, no)\n",
    "- `region`: The beneficiary's residential area in the US, northeast, southeast, southwest, northwest\n",
    "- `charges`: Individual medical costs billed by health insurance\n",
    "\n",
    "### Import Libraries and Load Data\n",
    "\n",
    "To begin our analysis, we will need to import the necessary libraries and read in the dataset."
   ]
  },
  {
   "cell_type": "code",
   "execution_count": 1,
   "id": "bf83150f",
   "metadata": {},
   "outputs": [],
   "source": [
    "import numpy as np\n",
    "import pandas as pd\n",
    "import seaborn as sns\n",
    "import matplotlib.pyplot as plt\n",
    "%matplotlib inline\n",
    "\n",
    "from sklearn.model_selection import train_test_split\n",
    "from sklearn.linear_model import LinearRegression\n",
    "from sklearn.preprocessing import LabelEncoder\n",
    "from sklearn.metrics import mean_squared_error\n",
    "from sklearn.metrics import r2_score"
   ]
  },
  {
   "cell_type": "code",
   "execution_count": 2,
   "id": "d2b3fb98",
   "metadata": {},
   "outputs": [
    {
     "data": {
      "text/html": [
       "<div>\n",
       "<style scoped>\n",
       "    .dataframe tbody tr th:only-of-type {\n",
       "        vertical-align: middle;\n",
       "    }\n",
       "\n",
       "    .dataframe tbody tr th {\n",
       "        vertical-align: top;\n",
       "    }\n",
       "\n",
       "    .dataframe thead th {\n",
       "        text-align: right;\n",
       "    }\n",
       "</style>\n",
       "<table border=\"1\" class=\"dataframe\">\n",
       "  <thead>\n",
       "    <tr style=\"text-align: right;\">\n",
       "      <th></th>\n",
       "      <th>age</th>\n",
       "      <th>sex</th>\n",
       "      <th>bmi</th>\n",
       "      <th>children</th>\n",
       "      <th>smoker</th>\n",
       "      <th>region</th>\n",
       "      <th>charges</th>\n",
       "    </tr>\n",
       "  </thead>\n",
       "  <tbody>\n",
       "    <tr>\n",
       "      <th>0</th>\n",
       "      <td>19</td>\n",
       "      <td>female</td>\n",
       "      <td>27.900</td>\n",
       "      <td>0</td>\n",
       "      <td>yes</td>\n",
       "      <td>southwest</td>\n",
       "      <td>16884.92400</td>\n",
       "    </tr>\n",
       "    <tr>\n",
       "      <th>1</th>\n",
       "      <td>18</td>\n",
       "      <td>male</td>\n",
       "      <td>33.770</td>\n",
       "      <td>1</td>\n",
       "      <td>no</td>\n",
       "      <td>southeast</td>\n",
       "      <td>1725.55230</td>\n",
       "    </tr>\n",
       "    <tr>\n",
       "      <th>2</th>\n",
       "      <td>28</td>\n",
       "      <td>male</td>\n",
       "      <td>33.000</td>\n",
       "      <td>3</td>\n",
       "      <td>no</td>\n",
       "      <td>southeast</td>\n",
       "      <td>4449.46200</td>\n",
       "    </tr>\n",
       "    <tr>\n",
       "      <th>3</th>\n",
       "      <td>33</td>\n",
       "      <td>male</td>\n",
       "      <td>22.705</td>\n",
       "      <td>0</td>\n",
       "      <td>no</td>\n",
       "      <td>northwest</td>\n",
       "      <td>21984.47061</td>\n",
       "    </tr>\n",
       "    <tr>\n",
       "      <th>4</th>\n",
       "      <td>32</td>\n",
       "      <td>male</td>\n",
       "      <td>28.880</td>\n",
       "      <td>0</td>\n",
       "      <td>no</td>\n",
       "      <td>northwest</td>\n",
       "      <td>3866.85520</td>\n",
       "    </tr>\n",
       "  </tbody>\n",
       "</table>\n",
       "</div>"
      ],
      "text/plain": [
       "   age     sex     bmi  children smoker     region      charges\n",
       "0   19  female  27.900         0    yes  southwest  16884.92400\n",
       "1   18    male  33.770         1     no  southeast   1725.55230\n",
       "2   28    male  33.000         3     no  southeast   4449.46200\n",
       "3   33    male  22.705         0     no  northwest  21984.47061\n",
       "4   32    male  28.880         0     no  northwest   3866.85520"
      ]
     },
     "execution_count": 2,
     "metadata": {},
     "output_type": "execute_result"
    }
   ],
   "source": [
    "# Load the dataset\n",
    "insurance = pd.read_csv('insurance.csv')\n",
    "insurance.head()"
   ]
  },
  {
   "cell_type": "markdown",
   "id": "46a7ec2a",
   "metadata": {},
   "source": [
    "## Exploring the Dataset\n",
    "\n",
    "Before proceeding with our analysis, we will examine some key features of the dataset. This includes the number of rows and columns, as well as relevant information about the individual columns such as their data type and whether they contain missing values."
   ]
  },
  {
   "cell_type": "code",
   "execution_count": 3,
   "id": "043f12ce",
   "metadata": {},
   "outputs": [
    {
     "name": "stdout",
     "output_type": "stream",
     "text": [
      "Number of rows: 1338\n",
      "Number of columns: 7\n"
     ]
    }
   ],
   "source": [
    "# Num of rows and columns\n",
    "print(f'Number of rows: {insurance.shape[0]}')\n",
    "print(f'Number of columns: {insurance.shape[1]}')"
   ]
  },
  {
   "cell_type": "code",
   "execution_count": 4,
   "id": "bcf99f04",
   "metadata": {},
   "outputs": [
    {
     "name": "stdout",
     "output_type": "stream",
     "text": [
      "<class 'pandas.core.frame.DataFrame'>\n",
      "RangeIndex: 1338 entries, 0 to 1337\n",
      "Data columns (total 7 columns):\n",
      " #   Column    Non-Null Count  Dtype  \n",
      "---  ------    --------------  -----  \n",
      " 0   age       1338 non-null   int64  \n",
      " 1   sex       1338 non-null   object \n",
      " 2   bmi       1338 non-null   float64\n",
      " 3   children  1338 non-null   int64  \n",
      " 4   smoker    1338 non-null   object \n",
      " 5   region    1338 non-null   object \n",
      " 6   charges   1338 non-null   float64\n",
      "dtypes: float64(2), int64(2), object(3)\n",
      "memory usage: 73.3+ KB\n"
     ]
    }
   ],
   "source": [
    "# Information about columns in the dataset\n",
    "insurance.info()"
   ]
  },
  {
   "cell_type": "markdown",
   "id": "e05a108e",
   "metadata": {},
   "source": [
    "The dataset comprises of 1338 rows and 7 columns. Out of these columns, three are categorical (`sex`, `smoker`, and `region`), while the remaining are numerical.\n",
    "\n",
    "Notably, all the columns are free of any missing values.\n",
    "\n",
    "We will now examine the descriptive statistics of the numeric columns, which provide us with a summary of the distribution's central tendency, dispersion, and shape."
   ]
  },
  {
   "cell_type": "code",
   "execution_count": 5,
   "id": "984ab902",
   "metadata": {},
   "outputs": [
    {
     "data": {
      "text/html": [
       "<div>\n",
       "<style scoped>\n",
       "    .dataframe tbody tr th:only-of-type {\n",
       "        vertical-align: middle;\n",
       "    }\n",
       "\n",
       "    .dataframe tbody tr th {\n",
       "        vertical-align: top;\n",
       "    }\n",
       "\n",
       "    .dataframe thead th {\n",
       "        text-align: right;\n",
       "    }\n",
       "</style>\n",
       "<table border=\"1\" class=\"dataframe\">\n",
       "  <thead>\n",
       "    <tr style=\"text-align: right;\">\n",
       "      <th></th>\n",
       "      <th>age</th>\n",
       "      <th>bmi</th>\n",
       "      <th>children</th>\n",
       "      <th>charges</th>\n",
       "    </tr>\n",
       "  </thead>\n",
       "  <tbody>\n",
       "    <tr>\n",
       "      <th>count</th>\n",
       "      <td>1338.000000</td>\n",
       "      <td>1338.000000</td>\n",
       "      <td>1338.000000</td>\n",
       "      <td>1338.000000</td>\n",
       "    </tr>\n",
       "    <tr>\n",
       "      <th>mean</th>\n",
       "      <td>39.207025</td>\n",
       "      <td>30.663397</td>\n",
       "      <td>1.094918</td>\n",
       "      <td>13270.422265</td>\n",
       "    </tr>\n",
       "    <tr>\n",
       "      <th>std</th>\n",
       "      <td>14.049960</td>\n",
       "      <td>6.098187</td>\n",
       "      <td>1.205493</td>\n",
       "      <td>12110.011237</td>\n",
       "    </tr>\n",
       "    <tr>\n",
       "      <th>min</th>\n",
       "      <td>18.000000</td>\n",
       "      <td>15.960000</td>\n",
       "      <td>0.000000</td>\n",
       "      <td>1121.873900</td>\n",
       "    </tr>\n",
       "    <tr>\n",
       "      <th>25%</th>\n",
       "      <td>27.000000</td>\n",
       "      <td>26.296250</td>\n",
       "      <td>0.000000</td>\n",
       "      <td>4740.287150</td>\n",
       "    </tr>\n",
       "    <tr>\n",
       "      <th>50%</th>\n",
       "      <td>39.000000</td>\n",
       "      <td>30.400000</td>\n",
       "      <td>1.000000</td>\n",
       "      <td>9382.033000</td>\n",
       "    </tr>\n",
       "    <tr>\n",
       "      <th>75%</th>\n",
       "      <td>51.000000</td>\n",
       "      <td>34.693750</td>\n",
       "      <td>2.000000</td>\n",
       "      <td>16639.912515</td>\n",
       "    </tr>\n",
       "    <tr>\n",
       "      <th>max</th>\n",
       "      <td>64.000000</td>\n",
       "      <td>53.130000</td>\n",
       "      <td>5.000000</td>\n",
       "      <td>63770.428010</td>\n",
       "    </tr>\n",
       "  </tbody>\n",
       "</table>\n",
       "</div>"
      ],
      "text/plain": [
       "               age          bmi     children       charges\n",
       "count  1338.000000  1338.000000  1338.000000   1338.000000\n",
       "mean     39.207025    30.663397     1.094918  13270.422265\n",
       "std      14.049960     6.098187     1.205493  12110.011237\n",
       "min      18.000000    15.960000     0.000000   1121.873900\n",
       "25%      27.000000    26.296250     0.000000   4740.287150\n",
       "50%      39.000000    30.400000     1.000000   9382.033000\n",
       "75%      51.000000    34.693750     2.000000  16639.912515\n",
       "max      64.000000    53.130000     5.000000  63770.428010"
      ]
     },
     "execution_count": 5,
     "metadata": {},
     "output_type": "execute_result"
    }
   ],
   "source": [
    "# Calculate descriptive statistics\n",
    "insurance.describe()"
   ]
  },
  {
   "cell_type": "markdown",
   "id": "16115015",
   "metadata": {},
   "source": [
    "The descriptive statistics of the dataset contains 4 numerical columns, namely `age`, `bmi`, `children`, and `charges`.\n",
    "\n",
    "- `age`: The mean age of the patients in the dataset is 39 years, with a standard deviation of 14 years. The youngest patient is 18 years old, while the oldest is 64 years old.\n",
    "- `bmi`: The mean BMI (body mass index) of the patients is 30.66, with a standard deviation of 6.1. The minimum BMI is 15.96, while the maximum BMI is 53.13.\n",
    "- `children`: The average number of children a patient has is 1.09, with a standard deviation of 1.21. The minimum number of children is 0, while the maximum number of children is 5.\n",
    "- `charges`:  The mean medical cost for a patient is 13270.42, with a standard deviation of 12110.01. The minimum medical cost is 1121.87, while the maximum medical cost is 63770.43.\n",
    "\n",
    "The `charges` column in our dataset represents the outcome variable, while the other columns serve as potential predictors for our model.\n",
    "\n",
    "To better understand the distribution of our outcome variable, we will plot a histogram:"
   ]
  },
  {
   "cell_type": "code",
   "execution_count": 6,
   "id": "acfd79b6",
   "metadata": {},
   "outputs": [
    {
     "data": {
      "image/png": "[encoded data removed]",
      "text/plain": [
       "<Figure size 640x480 with 1 Axes>"
      ]
     },
     "metadata": {},
     "output_type": "display_data"
    }
   ],
   "source": [
    "insurance.hist('charges', grid=False)\n",
    "plt.show()"
   ]
  },
  {
   "cell_type": "markdown",
   "id": "a1415645",
   "metadata": {},
   "source": [
    "Upon analyzing the histogram plot, we can observe that the distribution is skewed to the right, indicating a long tail of high-value charges. This suggests that the charges column is likely to be right-skewed, which we can further confirm through descriptive statistics.\n",
    "\n",
    "We'll use linear regression model and it is often recommended to use the log-transformed outcome variable when the original variable has a highly skewed distribution or contains extreme values. This is because linear regression assumes that the errors are normally distributed and have constant variance. Using the log-transformed outcome variable can help to reduce the influence of extreme values and improve the normality and homoscedasticity of the errors. Therefore, it may be beneficial to use the log-transformed `charges` variable for model training, evaluation, and prediction.\n",
    "\n",
    "Let's perform a transformation on the column and examine how it impacts the distribution of the data in `charges`."
   ]
  },
  {
   "cell_type": "code",
   "execution_count": 7,
   "id": "cd308136",
   "metadata": {},
   "outputs": [
    {
     "data": {
      "image/png": "[encoded data removed]",
      "text/plain": [
       "<Figure size 640x480 with 1 Axes>"
      ]
     },
     "metadata": {},
     "output_type": "display_data"
    }
   ],
   "source": [
    "# Apply log-transformation on 'charges'\n",
    "insurance['log_charges'] = np.log2(insurance['charges'])\n",
    "\n",
    "# Plot histogram for 'log_charges'\n",
    "insurance.hist('log_charges', grid=False)\n",
    "plt.show()"
   ]
  },
  {
   "cell_type": "markdown",
   "id": "314e2d49",
   "metadata": {},
   "source": [
    "The log-transformed values of the `charges` column are now more centralized, aligning with our intended goal. This indicates that the errors in our model will be less biased.\n",
    "\n",
    "Our initial step towards developing a linear model is to explore the `insurance` dataset. We will identify variables that exhibit a strong correlation with the outcome, making them ideal candidates for use in a predictive linear regression model. In the event that we encounter two highly correlated predictors, we will assess both and select the one that produces the best model.\n",
    "\n",
    "Through exploration of the `insurance` dataset, we aim to select relevant predictors that hold the potential to feature in our linear model.\n",
    "\n",
    "Let's examine the correlation between each of the predictor variables and the outcome variable in the dataset:\n",
    "\n",
    "- We will take note of any predictors that demonstrate a strong correlation with the outcome, and assess any noticeable patterns in the correlation relationships.\n",
    "- We will also be on the lookout for predictors that demonstrate high correlation with each other, and will take note of such instances."
   ]
  },
  {
   "cell_type": "code",
   "execution_count": 8,
   "id": "f1fe1625",
   "metadata": {},
   "outputs": [
    {
     "data": {
      "text/html": [
       "<div>\n",
       "<style scoped>\n",
       "    .dataframe tbody tr th:only-of-type {\n",
       "        vertical-align: middle;\n",
       "    }\n",
       "\n",
       "    .dataframe tbody tr th {\n",
       "        vertical-align: top;\n",
       "    }\n",
       "\n",
       "    .dataframe thead th {\n",
       "        text-align: right;\n",
       "    }\n",
       "</style>\n",
       "<table border=\"1\" class=\"dataframe\">\n",
       "  <thead>\n",
       "    <tr style=\"text-align: right;\">\n",
       "      <th></th>\n",
       "      <th>age</th>\n",
       "      <th>bmi</th>\n",
       "      <th>children</th>\n",
       "      <th>charges</th>\n",
       "      <th>log_charges</th>\n",
       "    </tr>\n",
       "  </thead>\n",
       "  <tbody>\n",
       "    <tr>\n",
       "      <th>age</th>\n",
       "      <td>1.000000</td>\n",
       "      <td>0.109272</td>\n",
       "      <td>0.042469</td>\n",
       "      <td>0.299008</td>\n",
       "      <td>0.527834</td>\n",
       "    </tr>\n",
       "    <tr>\n",
       "      <th>bmi</th>\n",
       "      <td>0.109272</td>\n",
       "      <td>1.000000</td>\n",
       "      <td>0.012759</td>\n",
       "      <td>0.198341</td>\n",
       "      <td>0.132669</td>\n",
       "    </tr>\n",
       "    <tr>\n",
       "      <th>children</th>\n",
       "      <td>0.042469</td>\n",
       "      <td>0.012759</td>\n",
       "      <td>1.000000</td>\n",
       "      <td>0.067998</td>\n",
       "      <td>0.161336</td>\n",
       "    </tr>\n",
       "    <tr>\n",
       "      <th>charges</th>\n",
       "      <td>0.299008</td>\n",
       "      <td>0.198341</td>\n",
       "      <td>0.067998</td>\n",
       "      <td>1.000000</td>\n",
       "      <td>0.892964</td>\n",
       "    </tr>\n",
       "    <tr>\n",
       "      <th>log_charges</th>\n",
       "      <td>0.527834</td>\n",
       "      <td>0.132669</td>\n",
       "      <td>0.161336</td>\n",
       "      <td>0.892964</td>\n",
       "      <td>1.000000</td>\n",
       "    </tr>\n",
       "  </tbody>\n",
       "</table>\n",
       "</div>"
      ],
      "text/plain": [
       "                  age       bmi  children   charges  log_charges\n",
       "age          1.000000  0.109272  0.042469  0.299008     0.527834\n",
       "bmi          0.109272  1.000000  0.012759  0.198341     0.132669\n",
       "children     0.042469  0.012759  1.000000  0.067998     0.161336\n",
       "charges      0.299008  0.198341  0.067998  1.000000     0.892964\n",
       "log_charges  0.527834  0.132669  0.161336  0.892964     1.000000"
      ]
     },
     "execution_count": 8,
     "metadata": {},
     "output_type": "execute_result"
    }
   ],
   "source": [
    "# Find correlation between numerical columns\n",
    "insurance.corr()"
   ]
  },
  {
   "cell_type": "markdown",
   "id": "75f6a036",
   "metadata": {},
   "source": [
    "After analyzing the correlation table, the following observations can be made:\n",
    "\n",
    "- There is a positive correlation between `age` and `charges`, meaning that as age increases, the charges also increase.\n",
    "- The correlation between `bmi` and `charges` is also positive, but not as strong as the correlation between `age` and `charges`.\n",
    "- The `children` column has a weak correlation with `charges`, which means that having more or fewer children does not have a significant impact on charges.\n",
    "- There is a strong positive correlation between `charges` and `log_charges`. This is expected because `log_charges` is the logarithmic transformation of `charges`.\n",
    "\n",
    "Let's focus on categorical variables. In linear regression, they show changes in the average outcome for non-reference categories. We can plot histograms of the outcome stratified by different categories to see if using them is useful. If there's a significant change, the categorical variable might be worth including."
   ]
  },
  {
   "cell_type": "code",
   "execution_count": 9,
   "id": "eb03a243",
   "metadata": {},
   "outputs": [
    {
     "data": {
      "image/png": "[encoded data removed]",
      "text/plain": [
       "<Figure size 800x400 with 2 Axes>"
      ]
     },
     "metadata": {},
     "output_type": "display_data"
    }
   ],
   "source": [
    "# Create a histogram stratified by sex\n",
    "g = sns.FacetGrid(insurance, col='sex', height=4, aspect=1)\n",
    "g.map(sns.histplot, 'log_charges', kde=False, bins=20)\n",
    "plt.show()"
   ]
  },
  {
   "cell_type": "code",
   "execution_count": 10,
   "id": "300cac53",
   "metadata": {},
   "outputs": [
    {
     "data": {
      "image/png": "[encoded data removed]",
      "text/plain": [
       "<Figure size 800x400 with 2 Axes>"
      ]
     },
     "metadata": {},
     "output_type": "display_data"
    }
   ],
   "source": [
    "# Create a histogram stratified by smoker\n",
    "g = sns.FacetGrid(insurance, col='smoker', height=4, aspect=1)\n",
    "g.map(sns.histplot, 'log_charges', kde=False, bins=20)\n",
    "plt.show()\n"
   ]
  },
  {
   "cell_type": "code",
   "execution_count": 11,
   "id": "5d684a19",
   "metadata": {},
   "outputs": [
    {
     "data": {
      "image/png": "[encoded data removed]",
      "text/plain": [
       "<Figure size 1600x400 with 4 Axes>"
      ]
     },
     "metadata": {},
     "output_type": "display_data"
    }
   ],
   "source": [
    "# Create a histogram stratified by region\n",
    "g = sns.FacetGrid(insurance, col='region', height=4, aspect=1)\n",
    "g.map(sns.histplot, 'log_charges', kde=False, bins=20)\n",
    "plt.show()"
   ]
  },
  {
   "cell_type": "markdown",
   "id": "e65165ee",
   "metadata": {},
   "source": [
    "Based on the histogram stratified by `sex`, we can see that the range of `log_charges` for females is narrower than that of males. This suggests that sex may be a useful variable to include in our model, as it may have an impact on medical charges.\n",
    "\n",
    "For the histogram stratified by `smoker`, we can see that the range of `log_charges` for smokers is wider than that of non-smokers, and that the mean charge for smokers is higher than that of non-smokers. This suggests that smoking status is a useful variable to include in our model, as it appears to have a strong impact on medical charges.\n",
    "\n",
    "For the histogram stratified by `region`, we can see that there is some variation in the range and mean of `log_charges` across different regions. However, the ranges and means are fairly similar across regions, so it is unclear whether including region in our model would be particularly useful.\n",
    "\n",
    "Overall, it appears that `sex` and `smoker` are useful variables to include in our model, while `region` may not be particularly informative.\n",
    "\n",
    "### Handling Categorical Variables\n",
    "\n",
    "Encoding categorical variables with numerical values is important because most machine learning algorithms cannot work with categorical data directly. Instead, they require numerical data as input. In order to achieve this, we can use the `LabelEncoder` from scikit-learn library which converts categorical variables into numerical labels.\n",
    "\n",
    "`LabelEncoder` is a class in scikit-learn that encodes categorical integer features into numerical values. It assigns a unique integer value to each category of the feature. For example, in the case of binary variables such as `sex` and `smoker`, we can encode `male` and `smoker` as `1` and `female` and `non-smoker` as `0`.\n",
    "\n",
    "Once the encoding is done, we can perform mathematical computations on these encoded values to build our machine learning models."
   ]
  },
  {
   "cell_type": "code",
   "execution_count": 12,
   "id": "a6adef29",
   "metadata": {},
   "outputs": [
    {
     "data": {
      "text/html": [
       "<div>\n",
       "<style scoped>\n",
       "    .dataframe tbody tr th:only-of-type {\n",
       "        vertical-align: middle;\n",
       "    }\n",
       "\n",
       "    .dataframe tbody tr th {\n",
       "        vertical-align: top;\n",
       "    }\n",
       "\n",
       "    .dataframe thead th {\n",
       "        text-align: right;\n",
       "    }\n",
       "</style>\n",
       "<table border=\"1\" class=\"dataframe\">\n",
       "  <thead>\n",
       "    <tr style=\"text-align: right;\">\n",
       "      <th></th>\n",
       "      <th>age</th>\n",
       "      <th>sex</th>\n",
       "      <th>bmi</th>\n",
       "      <th>children</th>\n",
       "      <th>smoker</th>\n",
       "      <th>region</th>\n",
       "      <th>charges</th>\n",
       "      <th>log_charges</th>\n",
       "    </tr>\n",
       "  </thead>\n",
       "  <tbody>\n",
       "    <tr>\n",
       "      <th>0</th>\n",
       "      <td>19</td>\n",
       "      <td>0</td>\n",
       "      <td>27.900</td>\n",
       "      <td>0</td>\n",
       "      <td>1</td>\n",
       "      <td>southwest</td>\n",
       "      <td>16884.92400</td>\n",
       "      <td>14.043448</td>\n",
       "    </tr>\n",
       "    <tr>\n",
       "      <th>1</th>\n",
       "      <td>18</td>\n",
       "      <td>1</td>\n",
       "      <td>33.770</td>\n",
       "      <td>1</td>\n",
       "      <td>0</td>\n",
       "      <td>southeast</td>\n",
       "      <td>1725.55230</td>\n",
       "      <td>10.752842</td>\n",
       "    </tr>\n",
       "    <tr>\n",
       "      <th>2</th>\n",
       "      <td>28</td>\n",
       "      <td>1</td>\n",
       "      <td>33.000</td>\n",
       "      <td>3</td>\n",
       "      <td>0</td>\n",
       "      <td>southeast</td>\n",
       "      <td>4449.46200</td>\n",
       "      <td>12.119415</td>\n",
       "    </tr>\n",
       "    <tr>\n",
       "      <th>3</th>\n",
       "      <td>33</td>\n",
       "      <td>1</td>\n",
       "      <td>22.705</td>\n",
       "      <td>0</td>\n",
       "      <td>0</td>\n",
       "      <td>northwest</td>\n",
       "      <td>21984.47061</td>\n",
       "      <td>14.424197</td>\n",
       "    </tr>\n",
       "    <tr>\n",
       "      <th>4</th>\n",
       "      <td>32</td>\n",
       "      <td>1</td>\n",
       "      <td>28.880</td>\n",
       "      <td>0</td>\n",
       "      <td>0</td>\n",
       "      <td>northwest</td>\n",
       "      <td>3866.85520</td>\n",
       "      <td>11.916945</td>\n",
       "    </tr>\n",
       "    <tr>\n",
       "      <th>5</th>\n",
       "      <td>31</td>\n",
       "      <td>0</td>\n",
       "      <td>25.740</td>\n",
       "      <td>0</td>\n",
       "      <td>0</td>\n",
       "      <td>southeast</td>\n",
       "      <td>3756.62160</td>\n",
       "      <td>11.875220</td>\n",
       "    </tr>\n",
       "    <tr>\n",
       "      <th>6</th>\n",
       "      <td>46</td>\n",
       "      <td>0</td>\n",
       "      <td>33.440</td>\n",
       "      <td>1</td>\n",
       "      <td>0</td>\n",
       "      <td>southeast</td>\n",
       "      <td>8240.58960</td>\n",
       "      <td>13.008532</td>\n",
       "    </tr>\n",
       "    <tr>\n",
       "      <th>7</th>\n",
       "      <td>37</td>\n",
       "      <td>0</td>\n",
       "      <td>27.740</td>\n",
       "      <td>3</td>\n",
       "      <td>0</td>\n",
       "      <td>northwest</td>\n",
       "      <td>7281.50560</td>\n",
       "      <td>12.830021</td>\n",
       "    </tr>\n",
       "    <tr>\n",
       "      <th>8</th>\n",
       "      <td>37</td>\n",
       "      <td>1</td>\n",
       "      <td>29.830</td>\n",
       "      <td>2</td>\n",
       "      <td>0</td>\n",
       "      <td>northeast</td>\n",
       "      <td>6406.41070</td>\n",
       "      <td>12.645301</td>\n",
       "    </tr>\n",
       "    <tr>\n",
       "      <th>9</th>\n",
       "      <td>60</td>\n",
       "      <td>0</td>\n",
       "      <td>25.840</td>\n",
       "      <td>0</td>\n",
       "      <td>0</td>\n",
       "      <td>northwest</td>\n",
       "      <td>28923.13692</td>\n",
       "      <td>14.819936</td>\n",
       "    </tr>\n",
       "  </tbody>\n",
       "</table>\n",
       "</div>"
      ],
      "text/plain": [
       "   age  sex     bmi  children  smoker     region      charges  log_charges\n",
       "0   19    0  27.900         0       1  southwest  16884.92400    14.043448\n",
       "1   18    1  33.770         1       0  southeast   1725.55230    10.752842\n",
       "2   28    1  33.000         3       0  southeast   4449.46200    12.119415\n",
       "3   33    1  22.705         0       0  northwest  21984.47061    14.424197\n",
       "4   32    1  28.880         0       0  northwest   3866.85520    11.916945\n",
       "5   31    0  25.740         0       0  southeast   3756.62160    11.875220\n",
       "6   46    0  33.440         1       0  southeast   8240.58960    13.008532\n",
       "7   37    0  27.740         3       0  northwest   7281.50560    12.830021\n",
       "8   37    1  29.830         2       0  northeast   6406.41070    12.645301\n",
       "9   60    0  25.840         0       0  northwest  28923.13692    14.819936"
      ]
     },
     "execution_count": 12,
     "metadata": {},
     "output_type": "execute_result"
    }
   ],
   "source": [
    "# Instantiate labelencoder\n",
    "le = LabelEncoder()\n",
    "\n",
    "# Apply le on categorical feature columns\n",
    "insurance[['sex', 'smoker']] = insurance[['sex', 'smoker']].apply(lambda col: le.fit_transform(col))\n",
    "\n",
    "# View results\n",
    "insurance.head(10)"
   ]
  },
  {
   "cell_type": "markdown",
   "id": "16035585",
   "metadata": {},
   "source": [
    "## Prepare the Data\n",
    "\n",
    "After our analysis, we have identified the most important features for our model. We will now split the data into two parts - features (X) and target variable (y) based on these selected features."
   ]
  },
  {
   "cell_type": "code",
   "execution_count": 13,
   "id": "1cfd668d",
   "metadata": {},
   "outputs": [],
   "source": [
    "# Create features X\n",
    "X = insurance[['age', 'bmi', 'sex', 'smoker']]\n",
    "\n",
    "# Create target variable\n",
    "y = insurance['log_charges']"
   ]
  },
  {
   "cell_type": "markdown",
   "id": "68809aa5",
   "metadata": {},
   "source": [
    "## Dividing The Data\n",
    "\n",
    "To build the model, we first need to split our data into two parts:\n",
    "\n",
    "- Training set: used to estimate the regression coefficients for each predictor in the model.\n",
    "- Test set: used to evaluate the model's predictive ability on new data.\n",
    "\n",
    "It's important not to use the test set to estimate coefficients because it represents new data that the model hasn't seen before. The prediction error on the test set gives us an idea of how well the model can generalize to new data."
   ]
  },
  {
   "cell_type": "code",
   "execution_count": 14,
   "id": "36f52bd2",
   "metadata": {},
   "outputs": [],
   "source": [
    "# Split the data into training (75%) and test (25%) sets\n",
    "X_train, X_test, y_train, y_test = train_test_split(X, y,\n",
    "                                                    test_size=0.25,\n",
    "                                                    random_state=42)"
   ]
  },
  {
   "cell_type": "markdown",
   "id": "57da0f86",
   "metadata": {},
   "source": [
    "Let's take a look at the shape after dividing the data into training and test sets."
   ]
  },
  {
   "cell_type": "code",
   "execution_count": 15,
   "id": "fecb7213",
   "metadata": {},
   "outputs": [
    {
     "data": {
      "text/plain": [
       "((1003, 4), (1003,))"
      ]
     },
     "execution_count": 15,
     "metadata": {},
     "output_type": "execute_result"
    }
   ],
   "source": [
    "X_train.shape, y_train.shape"
   ]
  },
  {
   "cell_type": "code",
   "execution_count": 16,
   "id": "1f29fdd8",
   "metadata": {},
   "outputs": [
    {
     "data": {
      "text/plain": [
       "((335, 4), (335,))"
      ]
     },
     "execution_count": 16,
     "metadata": {},
     "output_type": "execute_result"
    }
   ],
   "source": [
    "X_test.shape, y_test.shape"
   ]
  },
  {
   "cell_type": "markdown",
   "id": "28dfd047",
   "metadata": {},
   "source": [
    "## Build the Model\n",
    "\n",
    "After dividing our data into a training and test set, we can now build our predictive linear model. In this process, we'll examine the regression coefficients and the coefficient of determination. Here are a few questions we can ask ourselves using only the training set:\n",
    "\n",
    "- Do the coefficient values align with their correlation with the outcome?\n",
    "- What does the coefficient of determination ($R^2$) reveal about the model's fit?\n",
    "- How well does the model predict medical costs in the training set (MSE)?"
   ]
  },
  {
   "cell_type": "code",
   "execution_count": 17,
   "id": "a630b7b5",
   "metadata": {},
   "outputs": [],
   "source": [
    "# Define model\n",
    "lr = LinearRegression()\n",
    "\n",
    "# Fit the model\n",
    "lr.fit(X_train, y_train)\n",
    "\n",
    "# Make model predictions on X_train\n",
    "y_pred = lr.predict(X_train)\n",
    "\n",
    "# Calculate MSE on log scale\n",
    "log_mse = mean_squared_error(y_train, y_pred)\n",
    "\n",
    "# Calculate MSE on the original scale\n",
    "orig_mse = np.exp(mean_squared_error(y_train, y_pred))\n",
    "\n",
    "# Calculate coefficient of determination (R2)\n",
    "r2 = r2_score(y_train, y_pred)"
   ]
  },
  {
   "cell_type": "markdown",
   "id": "7b2bb477",
   "metadata": {},
   "source": [
    "Let's try to answer the questions we mentioned above:"
   ]
  },
  {
   "cell_type": "code",
   "execution_count": 18,
   "id": "310e6d18",
   "metadata": {},
   "outputs": [
    {
     "name": "stdout",
     "output_type": "stream",
     "text": [
      "Model coefficients:\n",
      "[ 0.05082522  0.01566292 -0.09607661  2.23860108]\n",
      "\n",
      "R2 score (log scale): 74\n",
      "\n",
      "MSE (log scale): 0.4456\n",
      "\n",
      "MSE (original): $1561\n",
      "\n"
     ]
    }
   ],
   "source": [
    "print(f'Model coefficients:\\n{lr.coef_}\\n')\n",
    "print(f'R2 score (log scale): {r2*100:.0f}\\n')\n",
    "print(f'MSE (log scale): {log_mse:.4f}\\n')\n",
    "print(f'MSE (original): ${orig_mse*1000:.0f}\\n')"
   ]
  },
  {
   "cell_type": "markdown",
   "id": "8e5715e1",
   "metadata": {},
   "source": [
    "We can draw the following observations based on the results:\n",
    "\n",
    "- The coefficient values indicate that age and BMI have a positive impact on medical charges, while being female and a non-smoker have a negative impact. These values make sense as age and BMI are typically associated with higher medical costs, while being female and a non-smoker are typically associated with lower medical costs.\n",
    "- The coefficient of determination (R2) suggests that the model explains approximately 74% of the variance in the target variable, log-transformed medical charges. This indicates that the model has a good fit and is able to capture a significant portion of the variability in medical charges.\n",
    "- The MSE on the original scale suggests that the model has an average error of approximately \\\\$1,561 in predicting medical charges. This is a relatively high error, but it should be noted that the range of medical charges in the dataset is quite wide, with some charges exceeding \\\\$60,000.\n",
    "\n",
    "In general, the model seems to perform reasonably well when predicting medical costs in the training set, but it's essential to keep in mind that these are optimistic values.\n",
    "\n",
    "## Residual Diagnostics\n",
    "\n",
    "Our predictive model for medical costs is now up and running! But before we proceed with a more detailed examination, we need to verify if the assumptions of linear regression hold true.\n",
    "\n",
    "The error term $\\epsilon_i$ measures how much the outcome $Y$ deviates from the combination of predictors that the model fits, which is given by:\n",
    "\n",
    "$$\\epsilon_i = Y_i - \\beta_0 - \\beta_1 X_1 - \\beta_2 X_2 - ... - \\beta_p X_p$$\n",
    "\n",
    "Since we don't know the actual values of $\\epsilon_i$, we rely on the residuals to estimate them. The residuals $e_i$ are computed as:\n",
    "\n",
    "$$e_i = Y_i - \\hat{Y_i}$$\n",
    "\n",
    "These residuals should have similar characteristics to the actual error terms $\\epsilon_i$. We will examine these residuals and evaluate the model's goodness of fit."
   ]
  },
  {
   "cell_type": "code",
   "execution_count": 19,
   "id": "5071254e",
   "metadata": {},
   "outputs": [
    {
     "data": {
      "text/html": [
       "<div>\n",
       "<style scoped>\n",
       "    .dataframe tbody tr th:only-of-type {\n",
       "        vertical-align: middle;\n",
       "    }\n",
       "\n",
       "    .dataframe tbody tr th {\n",
       "        vertical-align: top;\n",
       "    }\n",
       "\n",
       "    .dataframe thead th {\n",
       "        text-align: right;\n",
       "    }\n",
       "</style>\n",
       "<table border=\"1\" class=\"dataframe\">\n",
       "  <thead>\n",
       "    <tr style=\"text-align: right;\">\n",
       "      <th></th>\n",
       "      <th>acutal</th>\n",
       "      <th>fitted</th>\n",
       "      <th>residuals</th>\n",
       "    </tr>\n",
       "  </thead>\n",
       "  <tbody>\n",
       "    <tr>\n",
       "      <th>0</th>\n",
       "      <td>11.200266</td>\n",
       "      <td>11.741977</td>\n",
       "      <td>-0.541711</td>\n",
       "    </tr>\n",
       "    <tr>\n",
       "      <th>1</th>\n",
       "      <td>12.083626</td>\n",
       "      <td>12.086072</td>\n",
       "      <td>-0.002446</td>\n",
       "    </tr>\n",
       "    <tr>\n",
       "      <th>2</th>\n",
       "      <td>13.197116</td>\n",
       "      <td>13.365569</td>\n",
       "      <td>-0.168453</td>\n",
       "    </tr>\n",
       "    <tr>\n",
       "      <th>3</th>\n",
       "      <td>15.365336</td>\n",
       "      <td>15.344170</td>\n",
       "      <td>0.021166</td>\n",
       "    </tr>\n",
       "    <tr>\n",
       "      <th>4</th>\n",
       "      <td>13.107099</td>\n",
       "      <td>13.038360</td>\n",
       "      <td>0.068739</td>\n",
       "    </tr>\n",
       "  </tbody>\n",
       "</table>\n",
       "</div>"
      ],
      "text/plain": [
       "      acutal     fitted  residuals\n",
       "0  11.200266  11.741977  -0.541711\n",
       "1  12.083626  12.086072  -0.002446\n",
       "2  13.197116  13.365569  -0.168453\n",
       "3  15.365336  15.344170   0.021166\n",
       "4  13.107099  13.038360   0.068739"
      ]
     },
     "execution_count": 19,
     "metadata": {},
     "output_type": "execute_result"
    }
   ],
   "source": [
    "# Create dataframe\n",
    "residual_df = pd.DataFrame()\n",
    "\n",
    "# Store actual and fitted values in the dataframe\n",
    "residual_df['acutal'] = y_train\n",
    "residual_df['fitted'] = y_pred\n",
    "\n",
    "# Calculate residuals of the model\n",
    "residual_df['residuals'] = residual_df['acutal'] - residual_df['fitted']\n",
    "residual_df = residual_df.reset_index(drop=True)\n",
    "residual_df.head()"
   ]
  },
  {
   "cell_type": "code",
   "execution_count": 20,
   "id": "3c0ec5bf",
   "metadata": {},
   "outputs": [
    {
     "data": {
      "image/png": "[encoded data removed]",
      "text/plain": [
       "<Figure size 640x480 with 1 Axes>"
      ]
     },
     "metadata": {},
     "output_type": "display_data"
    }
   ],
   "source": [
    "# Create a scatter plot of fitted values vs residuals\n",
    "plt.scatter(residual_df['fitted'], residual_df['residuals'], alpha=0.5)\n",
    "\n",
    "# Add a horizontal line at y=0\n",
    "plt.axhline(y=0, color='r', linestyle='-')\n",
    "\n",
    "# Set x and y axis labels\n",
    "plt.xlabel('Fitted values')\n",
    "plt.ylabel('Residuals')\n",
    "\n",
    "# Show the plot\n",
    "plt.show()"
   ]
  },
  {
   "cell_type": "markdown",
   "id": "2597f3a8",
   "metadata": {},
   "source": [
    "Based on the scatter plot, we can answer the following questions:\n",
    "\n",
    "- Do the residuals seem to center around 0 over the range of the fitted values?\n",
    "    - No, the residuals do not seem to center around 0 over the range of the fitted values.\n",
    "- Do the residuals seem to remain in a constant \"band\" around 0 over the range of fitted values? If not, what does the trend look like?\n",
    "    - No, the residuals do not seem to remain in a constant \"band\" around 0 over the range of fitted values. As fitted values get larger, the residuals trend downward.\n",
    "- Do the residuals seem to trend with any of the predictors in the model?\n",
    "    - We cannot determine if the residuals trend with any of the predictors in the model based on the scatter plot provided.\n",
    "    \n",
    "## Interpreting the Model\n",
    "\n",
    "One of the best qualities of a linear model is its interpretability of the estimated coefficients. The model provides a way to understand how changes in predictors relate to changes in the outcome (without causing them).\n",
    "\n",
    "For a linear model with multiple predictors...\n",
    "\n",
    "$Y_i = \\beta_0 + \\beta_1X_1 + \\beta_2X_2 + ... + \\beta_pX_p + \\epsilon_i$\n",
    "\n",
    "...we interpret $\\beta_1$ as the average increase in $Y$ for a unit increase in $X_1$, holding the other predictors constant. We can apply this interpretation to each variable in the model to make it as interpretable as possible.\n",
    "\n",
    "From a hospital administrator's perspective, the regression coefficients could represent actionable plans to improve medical care efficiency. Based on the model interpretations, administrators may consider reallocating resources to hospitals with vulnerable patient populations."
   ]
  },
  {
   "cell_type": "code",
   "execution_count": 21,
   "id": "1c2313d6",
   "metadata": {},
   "outputs": [
    {
     "data": {
      "text/plain": [
       "10.247741810450814"
      ]
     },
     "execution_count": 21,
     "metadata": {},
     "output_type": "execute_result"
    }
   ],
   "source": [
    "intercept = lr.intercept_\n",
    "intercept"
   ]
  },
  {
   "cell_type": "code",
   "execution_count": 22,
   "id": "d4abd083",
   "metadata": {},
   "outputs": [
    {
     "data": {
      "text/plain": [
       "array([ 0.05082522,  0.01566292, -0.09607661,  2.23860108])"
      ]
     },
     "execution_count": 22,
     "metadata": {},
     "output_type": "execute_result"
    }
   ],
   "source": [
    "coefficients = lr.coef_\n",
    "coefficients"
   ]
  },
  {
   "cell_type": "markdown",
   "id": "567fadf7",
   "metadata": {},
   "source": [
    "Let's draw some insights by interpreting the intercept and coefficients values:\n",
    "\n",
    "1. The intercept of the model, 10.2477, represents the expected value of the response variable (i.e., medical charges) when all the predictors (age, bmi, sex, and smoker) are equal to zero. However, the intercept may not have a meaningful interpretation in this case because all of the predictors are unlikely to be exactly zero in reality. For example, age cannot be negative, and there are no patients with a BMI of zero in the dataset.\n",
    "2. Let's interpret the regression coefficients for two predictors:\n",
    "\n",
    "    - For the predictor `bmi`, a one-unit increase in BMI is associated with an average increase in medical charges of 0.0157 units, holding all other predictors constant. In other words, a patient who has a BMI that is one unit greater than another patient, but is otherwise similar to the other patient in terms of age, sex, and smoking status, can be expected to have medical charges that are 0.0157 units higher on average.\n",
    "    - For the predictor `smoker`, a patient who is a smoker has an average increase in medical charges of 2.2386 units, holding all other predictors constant, compared to a patient who is a non-smoker. In other words, all else being equal, smokers can be expected to have medical charges that are 2.2386 units higher on average than non-smokers.\n",
    "    \n",
    "Note: we are interested in the linear model as a *predictive model*, not as an inferential model. So, we will have no way of knowing if the relationship is statistically significant.\n",
    "\n",
    "## Final Model Evaluation\n",
    "\n",
    "Remember that the training error is typically overly optimistic, so it should not be used as the final evaluation of the model's predictive ability. To assess how well the model performs on new, unseen data, we need to evaluate it on the test data. The test data represents a set of new observations that the model has not seen during training. In order to use the model in real-world scenarios, the predictions should be accurate on any new observations."
   ]
  },
  {
   "cell_type": "code",
   "execution_count": 23,
   "id": "451b2b8a",
   "metadata": {},
   "outputs": [
    {
     "name": "stdout",
     "output_type": "stream",
     "text": [
      "MSE test: 1.5676\n",
      "MSE train: 1.5615\n"
     ]
    }
   ],
   "source": [
    "# Make model predictions on X_test\n",
    "test_pred = lr.predict(X_test)\n",
    "\n",
    "# calculate MSE in the orignal scale\n",
    "test_mse = np.exp(mean_squared_error(y_test, test_pred))\n",
    "\n",
    "print(f'MSE test: {test_mse:.4f}')\n",
    "print(f'MSE train: {orig_mse:.4f}')"
   ]
  },
  {
   "attachments": {},
   "cell_type": "markdown",
   "id": "66b527f3",
   "metadata": {},
   "source": [
    "The mean squared error on the test set is slightly higher than the one on the training set. The difference between the two values is relatively small, but it indicates that the model may have slightly overfitted the training data. However, without further analysis, it is difficult to determine whether the difference is significant enough to warrant concern. Overall, the values suggest that the model has a decent level of predictive accuracy, but additional evaluation may be necessary to fully assess its performance.\n",
    "\n",
    "As next steps, we may want to try to improve the model with more predictors or more complex predictors such as quadratic terms. We may also want to use categorical predictors if the distribution of the outcome is appreciably different between categories.\n",
    "\n",
    "## Conclusion\n",
    "\n",
    "After conducting our analysis, we can conclude that the linear regression model for predicting medical costs based on age, BMI, sex, and smoking status seems to make sense in terms of interpretation. The regression coefficients indicate that as BMI and smoking status increase, medical charges also tend to increase, holding all other predictors constant. Similarly, the intercept value represents the expected medical charges when all predictors are zero, which may not be meaningful in real-world scenarios, but it provides a baseline for interpreting the other coefficients.\n",
    "\n",
    "When comparing the model's predictive ability on the training and test sets, we found that the model performed slightly better on the test set, with a slightly lower MSE value. This could be because the model was overfitting the training data, and the test set provided a more realistic evaluation of the model's performance. However, we should note that the difference in MSE values between the training and test sets was relatively small, and we would need to conduct additional analysis to determine if this difference is significant.\n",
    "\n",
    "In terms of the MSE value, we can interpret it as a measure of the model's accuracy in predicting medical charges based on the four predictors. A lower MSE value indicates that the model has less error in predicting medical charges, and therefore, it could be considered more useful for an insurance company. However, it is important to note that the MSE value is only one measure of the model's performance, and other factors, such as the model's interpretability, computational efficiency, and scalability, should also be considered when evaluating the model's usefulness for an insurance company.\n",
    "\n",
    "Overall, our analysis suggests that the linear regression model can provide useful insights into the factors that contribute to medical charges and has decent predictive accuracy. However, further analysis, including evaluating additional models and incorporating more predictors, may be necessary to fully assess the model's usefulness for an insurance company."
   ]
  }
 ],
 "metadata": {
  "kernelspec": {
   "display_name": "Python 3 (ipykernel)",
   "language": "python",
   "name": "python3"
  },
  "language_info": {
   "codemirror_mode": {
    "name": "ipython",
    "version": 3
   },
   "file_extension": ".py",
   "mimetype": "text/x-python",
   "name": "python",
   "nbconvert_exporter": "python",
   "pygments_lexer": "ipython3",
   "version": "3.10.4"
  }
 },
 "nbformat": 4,
 "nbformat_minor": 5
}
