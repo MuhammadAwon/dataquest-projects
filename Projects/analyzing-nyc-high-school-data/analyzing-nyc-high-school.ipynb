{
 "cells": [
  {
   "cell_type": "markdown",
   "id": "47c71ff0",
   "metadata": {},
   "source": [
    "# Analyzing NYC High School Data for Efficacy of Standardized Tests\n",
    "\n",
    "<img src=\"https://upload.wikimedia.org/wikipedia/commons/thumb/b/b1/NYC_DOE_Logo.png/1200px-NYC_DOE_Logo.png\" width=\"400\" height=\"400\" />\n",
    "\n",
    "*Source*: [wikipedia.org](https://en.wikipedia.org/wiki/New_York_City_Department_of_Education)\n",
    "\n",
    "In this project, we'll be using data about New York City public schools, which can be found [here](https://data.cityofnewyork.us/browse?category=Education).\n",
    "\n",
    "One of the most controversial issues in the US educational system is the efficacy of standardized tests and whether they're unfair to certain groups. Given our prior knowledge of this topic, investigating the correlations between [SAT scores](https://en.wikipedia.org/wiki/SAT) and demographics might be an interesting angle to take. We could correlate SAT scores with factors like race, gender, income, and more.\n",
    "\n",
    "## Project Overview\n",
    "\n",
    "The SAT (Scholastic Aptitude Test), is an exam that US high school students take before applying to college. Colleges take the test scores into account when deciding who to admit, so it's important to perform well.\n",
    "\n",
    "The test consists of three sections, each of which has 800 possible points. The combined score is out of 2,400 possible (while this number has changed a few times, the dataset for our project is based on 2,400 total points). Organizations often rank high schools by their average SAT scores. The scores are also considered a measure of overall school district quality.\n",
    "\n",
    "New York City makes its [data on high school SAT scores](https://data.cityofnewyork.us/Education/SAT-Results/f9bf-2cp4) available online, as well as the [demographic for each high school](https://data.cityofnewyork.us/Education/DOE-High-School-Directory-2014-2015/n3p6-zve2). This first few rows of the SAT data look like this:\n",
    "\n",
    "![](https://s3.amazonaws.com/dq-content/sat.png)\n",
    "\n",
    "*source*: [Dataquest](https://www.dataquest.io/new-home/)\n",
    "\n",
    "## Data Sources\n",
    "\n",
    "Unfortunately, combining both of the datasets won't give us all of the demographic information we want to use. We'll need to supplement our data with other sources to do our full analysis.\n",
    "\n",
    "The same website has several related datasets covering demographic information and test scores. Here are the links to all of the datasets we'll be using:\n",
    "\n",
    "- [SAT scores by school](https://data.cityofnewyork.us/Education/SAT-Results/f9bf-2cp4) - SAT scores for each high school in New York City\n",
    "- [School attendance](https://data.cityofnewyork.us/Education/School-Attendance-and-Enrollment-Statistics-by-Dis/7z8d-msnt) - Attendance information for each school in New York City\n",
    "- [Class size](https://data.cityofnewyork.us/Education/2010-2011-Class-Size-School-level-detail/urz7-pzb3) - Information on class size for each school\n",
    "- [AP test results](https://data.cityofnewyork.us/Education/AP-College-Board-2010-School-Level-Results/itfs-ms3e) - Advanced Placement (AP) exam results for each high school (passing an optional AP exam in a particular subject can earn a student college credit in that subject)\n",
    "- [Graduation outcomes](https://data.cityofnewyork.us/Education/Graduation-Outcomes-Classes-Of-2005-2010-School-Le/vh2h-md7a) - The percentage of students who graduated, and other outcome information\n",
    "- [Demographics](https://data.cityofnewyork.us/Education/School-Demographics-and-Accountability-Snapshot-20/ihfw-zy9j) - Demographic information for each school\n",
    "- [School survey](https://data.cityofnewyork.us/Education/NYC-School-Survey-2011/mnz3-dyi8) - Surveys of parents, teachers, and students at each school\n",
    "\n",
    "All of these datasets are interrelated. We'll need to combine them into a single dataset before we can find correlations.\n",
    "\n",
    "## Background Research on Topic\n",
    "\n",
    "Before we move into coding, we'll need to do a thorough research to understand the data. This can help us avoid costly mistakes, such as thinking that a column represents something other than what it does. Background research gives us a better understanding of how to combine and analyze the data.\n",
    "\n",
    "In our case, we'll want to research:\n",
    "\n",
    "- [New York City](https://en.wikipedia.org/wiki/New_York_City)\n",
    "- [The SAT](https://en.wikipedia.org/wiki/SAT)\n",
    "- [Schools in New York City](https://en.wikipedia.org/wiki/List_of_high_schools_in_New_York_City)\n",
    "- [Our data](https://data.cityofnewyork.us/browse?category=Education)\n",
    "\n",
    "We can learn a few different things from these resources, For example:\n",
    "\n",
    "- Only high school students take the SAT, so we'll want to focus on high schools.\n",
    "- New York City is made up of five boroughs, which are essentially distinct regions.\n",
    "- New York City schools fall within several different school districts, each of which can contain dozens of schools.\n",
    "- Our datasets include several different types of schools. We'll need to clean them so that we can focus on high schools only.\n",
    "- Each school in New York City has a unique code called a `DBN` or district borough number.\n",
    "- Aggregating data by district allows us to use the district mapping data to plot district-by-district differences.\n",
    "\n",
    "## Import Libraries and Read in Datasets\n",
    "\n",
    "In our first step, we'll import the libraries that are useful to work with the datasets."
   ]
  },
  {
   "cell_type": "code",
   "execution_count": 1,
   "id": "30b9403d",
   "metadata": {},
   "outputs": [],
   "source": [
    "import numpy as np\n",
    "import pandas as pd\n",
    "import matplotlib as plt\n",
    "\n",
    "%matplotlib inline"
   ]
  },
  {
   "cell_type": "markdown",
   "id": "3800a7dd",
   "metadata": {},
   "source": [
    "We've imported the libraries, now we're reay to read in the data. For the convenience, we've placed all the data into the `schools` folder. Here are all of the files in the folder:\n",
    "\n",
    "- `ap_2010.csv` - \n",
    "- `class_size.csv` - \n",
    "- `demographics.csv` - \n",
    "- `graduation.csv` - \n",
    "- `hs_directory.csv` - \n",
    "- `sat_results.csv` - \n",
    "- `survey_all.txt` - \n",
    "- `survey_d75.txt` - \n",
    "\n"
   ]
  },
  {
   "cell_type": "code",
   "execution_count": null,
   "id": "63da1ac0",
   "metadata": {},
   "outputs": [],
   "source": []
  }
 ],
 "metadata": {
  "kernelspec": {
   "display_name": "dataquest",
   "language": "python",
   "name": "dataquest"
  },
  "language_info": {
   "codemirror_mode": {
    "name": "ipython",
    "version": 3
   },
   "file_extension": ".py",
   "mimetype": "text/x-python",
   "name": "python",
   "nbconvert_exporter": "python",
   "pygments_lexer": "ipython3",
   "version": "3.9.7"
  }
 },
 "nbformat": 4,
 "nbformat_minor": 5
}
