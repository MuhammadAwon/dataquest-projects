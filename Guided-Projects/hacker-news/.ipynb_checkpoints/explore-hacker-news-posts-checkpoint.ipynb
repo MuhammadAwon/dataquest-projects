{
 "cells": [
  {
   "cell_type": "markdown",
   "id": "8ba1d803",
   "metadata": {},
   "source": [
    "# Explore Hacker News Posts\n",
    "\n",
    "In this project, we'll work with a dataset of submissiona to popular technology site [Hacker News](https://news.ycombinator.com/).\n",
    "\n",
    "<img src=\"https://s3.amazonaws.com/dq-content/354/hacker_news.jpg\" width=\"600\" height=\"600\" />\n",
    "\n",
    "Hacker News is a site started by the startup incubator [Y Combinator](https://www.ycombinator.com/), where user-submitted stories (known as **posts**) receive votes and comments, similar to reddit. Hacker News is extremely popular in technology and startup circles, and posts that make it to the top of the Hacker News listings can get hundreds of thousands of visitors as a result.\n",
    "\n",
    "We can find the dataset [here](https://www.kaggle.com/hacker-news/hacker-news-posts), but for this project we have reduced from almost 300,000 rows to approximately 20,000 rows by removing all submissions that didn't recieve any comments and then randomly sampling from the remaining submissions. Below are the descriptions of the columns:\n",
    "* `id`: the unique identifier from Hacker News for the post\n",
    "* `title`: the title of the post\n",
    "* `url`: the URL that the posts links to, if the post has a URL\n",
    "* `num_points`: the number of points the post acquired, calculated as the total number of upvotes minus the total number of downvotes\n",
    "* `num_comments`: the number of comments on the post\n",
    "* `author`: the username of the person who submitted the post\n",
    "* `created_at`: the date and time of post's submission"
   ]
  },
  {
   "cell_type": "markdown",
   "id": "1657e5d4",
   "metadata": {},
   "source": [
    "## Introduction\n",
    "\n",
    "We begin by importing the libraries we need and reading the dataset into a list of lists. We'll also remove the column headers from the rows."
   ]
  },
  {
   "cell_type": "code",
   "execution_count": 1,
   "id": "668cdd27",
   "metadata": {},
   "outputs": [],
   "source": [
    "from csv import reader\n",
    "\n",
    "opened_file = open('hacker_news.csv')\n",
    "read_file = reader(opened_file)\n",
    "hn = list(read_file)\n",
    "\n",
    "# Separate the column headers and rows\n",
    "headers = hn[0] # columns\n",
    "hn = hn[1:] # rows"
   ]
  },
  {
   "cell_type": "markdown",
   "id": "bd29db24",
   "metadata": {},
   "source": [
    "Here are the columns and the first five rows of the dataset look like:"
   ]
  },
  {
   "cell_type": "code",
   "execution_count": 2,
   "id": "97f7b236",
   "metadata": {},
   "outputs": [
    {
     "name": "stdout",
     "output_type": "stream",
     "text": [
      "['id', 'title', 'url', 'num_points', 'num_comments', 'author', 'created_at']\n",
      "['12224879', 'Interactive Dynamic Video', 'http://www.interactivedynamicvideo.com/', '386', '52', 'ne0phyte', '8/4/2016 11:52']\n",
      "\n",
      "['10975351', 'How to Use Open Source and Shut the Fuck Up at the Same Time', 'http://hueniverse.com/2016/01/26/how-to-use-open-source-and-shut-the-fuck-up-at-the-same-time/', '39', '10', 'josep2', '1/26/2016 19:30']\n",
      "\n",
      "['11964716', \"Florida DJs May Face Felony for April Fools' Water Joke\", 'http://www.thewire.com/entertainment/2013/04/florida-djs-april-fools-water-joke/63798/', '2', '1', 'vezycash', '6/23/2016 22:20']\n",
      "\n",
      "['11919867', 'Technology ventures: From Idea to Enterprise', 'https://www.amazon.com/Technology-Ventures-Enterprise-Thomas-Byers/dp/0073523429', '3', '1', 'hswarna', '6/17/2016 0:01']\n",
      "\n",
      "['10301696', 'Note by Note: The Making of Steinway L1037 (2007)', 'http://www.nytimes.com/2007/11/07/movies/07stein.html?_r=0', '8', '2', 'walterbell', '9/30/2015 4:12']\n",
      "\n"
     ]
    }
   ],
   "source": [
    "# Display columns\n",
    "print(headers)\n",
    "\n",
    "# Display rows\n",
    "for row in hn[:5]:\n",
    "    print(row)\n",
    "    print()"
   ]
  },
  {
   "cell_type": "markdown",
   "id": "24771ec5",
   "metadata": {},
   "source": [
    "We're specifically interested in posts with the titles that begin with either `Ask HN` or `Show HN`. Users submit `Ask HN` posts to ask the Hacker News community a specific question. Below are a few examples:\n",
    "\n",
    "```\n",
    "Ask HN: How to improve my personal website?\n",
    "Ask HN: Am I the only one outraged by Twitter shutting down share counts?\n",
    "Ask HN: Aby recent changes to CSS that broke mobile?\n",
    "```\n",
    "\n",
    "Likewise, users submit `Show HN` posts to show the Hacker News community a project, product, or just something interesting. Below are a few examples:\n",
    "\n",
    "```\n",
    "Show HN: Wio Link  ESP8266 Based Web of Things Hardware Development Platform'\n",
    "Show HN: Something pointless I made\n",
    "Show HN: Shanhu.io, a programming playground powered by e8vm\n",
    "```\n",
    "\n",
    "We'll compare these two types of posts to determine the following:\n",
    "* Do `Ask HN` or `Show HN` receive more comments on average?\n",
    "* Do posts created at a certain time receive more comments on average?"
   ]
  },
  {
   "cell_type": "markdown",
   "id": "fcc459dc",
   "metadata": {},
   "source": [
    "## Extracting Ask HN and Show HN Posts\n",
    "\n",
    "Since we're only concerned with post titles beginning with `Ask HN` or `Show HN`, we'll create new lists of lists containing just data for those titles.\n",
    "\n",
    "To find the posts that begin with either `Ask HN` or `Show HN`, we'll use the string method `startswith`.\n",
    "\n",
    "Strings are case sensitive so for this we'll also ensure that we filter out data based on lower case using `lower` string method."
   ]
  },
  {
   "cell_type": "code",
   "execution_count": 3,
   "id": "ad4e2df9",
   "metadata": {},
   "outputs": [
    {
     "name": "stdout",
     "output_type": "stream",
     "text": [
      "Number of ask posts: 1744\n",
      "Number of show posts: 1162\n",
      "Number of other posts: 17194\n"
     ]
    }
   ],
   "source": [
    "# Identify posts that begin with either `Ask HN` or `Show HN`\n",
    "# and separate the data into different lists\n",
    "ask_posts = []\n",
    "show_posts = []\n",
    "other_posts = []\n",
    "\n",
    "# Convert posts to lower case\n",
    "# then append them to the repective list of lists\n",
    "for post in hn:\n",
    "    title = post[1].lower()\n",
    "    if title.startswith('ask hn'):\n",
    "        ask_posts.append(post)\n",
    "    elif title.startswith('show hn'):\n",
    "        show_posts.append(post)\n",
    "    else:\n",
    "        other_posts.append(post)\n",
    "        \n",
    "print(f'Number of ask posts: {len(ask_posts)}')\n",
    "print(f'Number of show posts: {len(show_posts)}')\n",
    "print(f'Number of other posts: {len(other_posts)}')"
   ]
  },
  {
   "cell_type": "markdown",
   "id": "c568340c",
   "metadata": {},
   "source": [
    "We have more **ask posts** (`1744`) than **show posts** (`1162`). To verify if the data is stored properly, we have a look at the first and last two entries of each list."
   ]
  },
  {
   "cell_type": "code",
   "execution_count": 4,
   "id": "cbf2e1c7",
   "metadata": {},
   "outputs": [
    {
     "name": "stdout",
     "output_type": "stream",
     "text": [
      "Ask HN: How to improve my personal website?\n",
      "Ask HN: Why are papers still published as PDFs?\n",
      "Ask HN: Am I the only one outraged by Twitter shutting down share counts?\n",
      "Ask HN: How do you balance a serious relationship with starting a company?\n",
      "\n",
      "\n",
      "Show HN: Wio Link  ESP8266 Based Web of Things Hardware Development Platform\n",
      "Show HN: Parse recipe ingredients using JavaScript\n",
      "Show HN: Something pointless I made\n",
      "Show HN: PhantomJsCloud, Headless Browser SaaS\n"
     ]
    }
   ],
   "source": [
    "for entry in range(0, 2):\n",
    "    print(ask_posts[entry][1])\n",
    "    print(ask_posts[-entry-1][1])\n",
    "    \n",
    "print('\\n')\n",
    "\n",
    "for entry in range(0, 2):\n",
    "    print(show_posts[entry][1])\n",
    "    print(show_posts[-entry-1][1])"
   ]
  },
  {
   "cell_type": "markdown",
   "id": "8593ff13",
   "metadata": {},
   "source": [
    "## Calculating the Average Number of Comments for Ask HN and Show HN Posts\n",
    "\n",
    "Next, we'll try to answer to our **first basic question** and determine if ask posts or show posts receive more comments on average."
   ]
  },
  {
   "cell_type": "code",
   "execution_count": 5,
   "id": "f3593d63",
   "metadata": {},
   "outputs": [
    {
     "name": "stdout",
     "output_type": "stream",
     "text": [
      "The average number of comments on ask posts is: 14.04\n"
     ]
    }
   ],
   "source": [
    "# Calculate the average number of comments in 'Ask HN' posts\n",
    "total_ask_comments = 0\n",
    "for post in ask_posts:\n",
    "    num_comments = int(post[4])\n",
    "    total_ask_comments += num_comments\n",
    "\n",
    "avg_ask_comments = total_ask_comments/len(ask_posts)\n",
    "print(f'The average number of comments on ask posts is: {avg_ask_comments:.2f}')"
   ]
  },
  {
   "cell_type": "code",
   "execution_count": 6,
   "id": "9ab505e3",
   "metadata": {},
   "outputs": [
    {
     "name": "stdout",
     "output_type": "stream",
     "text": [
      "The average number of comments on show posts is: 10.32\n"
     ]
    }
   ],
   "source": [
    "# Calculate the average number of comments in 'Show HN' posts\n",
    "total_show_comments = 0\n",
    "for post in show_posts:\n",
    "    num_comments = int(post[4])\n",
    "    total_show_comments += num_comments\n",
    "    \n",
    "avg_show_comments = total_show_comments/len(show_posts)\n",
    "print(f'The average number of comments on show posts is: {avg_show_comments:.2f}')"
   ]
  },
  {
   "cell_type": "markdown",
   "id": "7862cf59",
   "metadata": {},
   "source": [
    "On average, **ask posts** receive more comments, around 14.04, compared to **show posts** which is approxiately 10.32. Since ask posts are more likely to receive comments, we'll focus our remaining analysis just on these posts."
   ]
  },
  {
   "cell_type": "markdown",
   "id": "8f66a0e0",
   "metadata": {},
   "source": [
    "## Finding the Amount of Ask Posts and Comments by Hour Created\n",
    "\n",
    "Moving on to our **second question**, we'll determine if ask posts created at a certain *time* are more likely to attract comments. We'll use the following steps to perform the analysis:\n",
    "1. Calculate the number of ask posts created in each hour of the day, along with the number of comments received.\n",
    "2. Calculate the average number of comments ask posts receive by hour created.\n",
    "\n",
    "In the code cell below, we'll work on the first step and calculate the number of ask posts and comments by hour created. We'll use the [`datetime` module](https://docs.python.org/3/library/datetime.html) to work with the data in the `created_at` column and with `datetime.strptime()` constructor we can parse dates stored as strings and return as datetime objects.\n",
    "\n",
    "To begin, we'll import `datetime` as `dt` and iterate over `ask_posts` to extract `post_created` and `num_comments` into the `result_list`.\n",
    "\n",
    "Next, we'll loop through `result_list` and store the data into two separate dictionaries `counts_by_hour` and `comments_by_hour` respectively."
   ]
  },
  {
   "cell_type": "code",
   "execution_count": 7,
   "id": "6f61792d",
   "metadata": {},
   "outputs": [],
   "source": [
    "import datetime as dt\n",
    "\n",
    "result_list = [] # list to store post time and num of comments\n",
    "\n",
    "for post in ask_posts:\n",
    "    post_created = post[6] # post time\n",
    "    num_comments = int(post[4]) # number of comments\n",
    "    result_list.append([post_created, num_comments])\n",
    "\n",
    "counts_by_hour = {} # dict to store number of posts by hour\n",
    "comments_by_hour = {} # dict to store number of comments by hour\n",
    "date_format = '%m/%d/%Y %H:%M'\n",
    "\n",
    "for row in result_list:\n",
    "    hour_str = row[0]\n",
    "    comment = row[1]\n",
    "    # Convert dates from string to datetime objects\n",
    "    hour_dt  = dt.datetime.strptime(hour_str, date_format)\n",
    "    # Extract only hours from the datetime objects\n",
    "    hour = hour_dt.strftime('%H')\n",
    "    if hour not in counts_by_hour:\n",
    "        counts_by_hour[hour] = 1\n",
    "        comments_by_hour[hour] = comment\n",
    "    else:\n",
    "        counts_by_hour[hour] += 1\n",
    "        comments_by_hour[hour] += comment"
   ]
  },
  {
   "cell_type": "markdown",
   "id": "bb3bed3e",
   "metadata": {},
   "source": [
    "Now that we have created two dictionaries:\n",
    "* `counts_by_hour`: contains the number of ask posts created during each hour of the day.\n",
    "* `comments_by_hour`: contains the corresponding number of comments ask posts created at each hour received.\n",
    "\n",
    "Let's view the data we have stored in these dictionaries:"
   ]
  },
  {
   "cell_type": "code",
   "execution_count": 8,
   "id": "4be8fbd3",
   "metadata": {},
   "outputs": [
    {
     "data": {
      "text/plain": [
       "{'09': 45,\n",
       " '13': 85,\n",
       " '10': 59,\n",
       " '14': 107,\n",
       " '16': 108,\n",
       " '23': 68,\n",
       " '12': 73,\n",
       " '17': 100,\n",
       " '15': 116,\n",
       " '21': 109,\n",
       " '20': 80,\n",
       " '02': 58,\n",
       " '18': 109,\n",
       " '03': 54,\n",
       " '05': 46,\n",
       " '19': 110,\n",
       " '01': 60,\n",
       " '22': 71,\n",
       " '08': 48,\n",
       " '04': 47,\n",
       " '00': 55,\n",
       " '06': 44,\n",
       " '07': 34,\n",
       " '11': 58}"
      ]
     },
     "execution_count": 8,
     "metadata": {},
     "output_type": "execute_result"
    }
   ],
   "source": [
    "# Posts count\n",
    "counts_by_hour"
   ]
  },
  {
   "cell_type": "code",
   "execution_count": 9,
   "id": "d8e5448a",
   "metadata": {},
   "outputs": [
    {
     "data": {
      "text/plain": [
       "{'09': 251,\n",
       " '13': 1253,\n",
       " '10': 793,\n",
       " '14': 1416,\n",
       " '16': 1814,\n",
       " '23': 543,\n",
       " '12': 687,\n",
       " '17': 1146,\n",
       " '15': 4477,\n",
       " '21': 1745,\n",
       " '20': 1722,\n",
       " '02': 1381,\n",
       " '18': 1439,\n",
       " '03': 421,\n",
       " '05': 464,\n",
       " '19': 1188,\n",
       " '01': 683,\n",
       " '22': 479,\n",
       " '08': 492,\n",
       " '04': 337,\n",
       " '00': 447,\n",
       " '06': 397,\n",
       " '07': 267,\n",
       " '11': 641}"
      ]
     },
     "execution_count": 9,
     "metadata": {},
     "output_type": "execute_result"
    }
   ],
   "source": [
    "# Comments count\n",
    "comments_by_hour"
   ]
  },
  {
   "cell_type": "markdown",
   "id": "fb74aa58",
   "metadata": {},
   "source": [
    "## Calculating the Average Number of Comments for Ask HN Posts by Hour\n",
    "\n",
    "We'll now use these two dictionaries to calculate the **average number of comments** for **post created during each hour** of the day.\n",
    "\n",
    "For this purpose, we'll create a list of lists `avg_by_hour` in which the first element containing the hours during which posts were created and the second element is the average number of comments those posts received."
   ]
  },
  {
   "cell_type": "code",
   "execution_count": 10,
   "id": "dcd841ee",
   "metadata": {},
   "outputs": [
    {
     "data": {
      "text/plain": [
       "[['09', 5.5777777777777775],\n",
       " ['13', 14.741176470588234],\n",
       " ['10', 13.440677966101696],\n",
       " ['14', 13.233644859813085],\n",
       " ['16', 16.796296296296298],\n",
       " ['23', 7.985294117647059],\n",
       " ['12', 9.41095890410959],\n",
       " ['17', 11.46],\n",
       " ['15', 38.5948275862069],\n",
       " ['21', 16.009174311926607],\n",
       " ['20', 21.525],\n",
       " ['02', 23.810344827586206],\n",
       " ['18', 13.20183486238532],\n",
       " ['03', 7.796296296296297],\n",
       " ['05', 10.08695652173913],\n",
       " ['19', 10.8],\n",
       " ['01', 11.383333333333333],\n",
       " ['22', 6.746478873239437],\n",
       " ['08', 10.25],\n",
       " ['04', 7.170212765957447],\n",
       " ['00', 8.127272727272727],\n",
       " ['06', 9.022727272727273],\n",
       " ['07', 7.852941176470588],\n",
       " ['11', 11.051724137931034]]"
      ]
     },
     "execution_count": 10,
     "metadata": {},
     "output_type": "execute_result"
    }
   ],
   "source": [
    "# Calculate the average amount of comments `Ask HN` posts created at each hour of the day receive\n",
    "avg_by_hour = []\n",
    "for comment_hr in comments_by_hour:\n",
    "    comment_avg = comments_by_hour[comment_hr]/counts_by_hour[comment_hr]\n",
    "    avg_by_hour.append([comment_hr, comment_avg])\n",
    "\n",
    "avg_by_hour"
   ]
  },
  {
   "cell_type": "markdown",
   "id": "61ed48fb",
   "metadata": {},
   "source": [
    "## Sorting the Values from the List (avg_by_hour)\n",
    "\n",
    "Although we now have the results we need, this format makes it difficult to identify the hours with the highest values. Let's finish by sorting the list of lists `swap_avg_by_hour` which is simply a **swapped** version of `avg_by_hour` list."
   ]
  },
  {
   "cell_type": "code",
   "execution_count": 11,
   "id": "c93aaeab",
   "metadata": {},
   "outputs": [
    {
     "data": {
      "text/plain": [
       "[[5.5777777777777775, '09'],\n",
       " [14.741176470588234, '13'],\n",
       " [13.440677966101696, '10'],\n",
       " [13.233644859813085, '14'],\n",
       " [16.796296296296298, '16'],\n",
       " [7.985294117647059, '23'],\n",
       " [9.41095890410959, '12'],\n",
       " [11.46, '17'],\n",
       " [38.5948275862069, '15'],\n",
       " [16.009174311926607, '21'],\n",
       " [21.525, '20'],\n",
       " [23.810344827586206, '02'],\n",
       " [13.20183486238532, '18'],\n",
       " [7.796296296296297, '03'],\n",
       " [10.08695652173913, '05'],\n",
       " [10.8, '19'],\n",
       " [11.383333333333333, '01'],\n",
       " [6.746478873239437, '22'],\n",
       " [10.25, '08'],\n",
       " [7.170212765957447, '04'],\n",
       " [8.127272727272727, '00'],\n",
       " [9.022727272727273, '06'],\n",
       " [7.852941176470588, '07'],\n",
       " [11.051724137931034, '11']]"
      ]
     },
     "execution_count": 11,
     "metadata": {},
     "output_type": "execute_result"
    }
   ],
   "source": [
    "# Swap the elements of 'avg_by_hour' and store them into a new list of lists\n",
    "swap_avg_by_hour = []\n",
    "for row in avg_by_hour:\n",
    "    swap_avg_by_hour.append([row[1], row[0]])\n",
    "    \n",
    "swap_avg_by_hour"
   ]
  },
  {
   "cell_type": "markdown",
   "id": "4125b862",
   "metadata": {},
   "source": [
    "We can now use the [`sorted()` function](https://docs.python.org/3/library/functions.html#sorted) to sort `swap_avg_by_hour` in descending order. Since the first column of this list is the average number of comments, sorting the list will sort by the average number of comments."
   ]
  },
  {
   "cell_type": "code",
   "execution_count": 12,
   "id": "24d8bd4e",
   "metadata": {},
   "outputs": [],
   "source": [
    "# Sort the list in descending order\n",
    "sorted_swap = sorted(swap_avg_by_hour, reverse=True)"
   ]
  },
  {
   "cell_type": "markdown",
   "id": "34dd6c77",
   "metadata": {},
   "source": [
    "## Displaying the Results of Sorted List\n",
    "\n",
    "In the end, we'll print the five highest values in a format that's easier to read."
   ]
  },
  {
   "cell_type": "code",
   "execution_count": 13,
   "id": "99996af9",
   "metadata": {},
   "outputs": [
    {
     "name": "stdout",
     "output_type": "stream",
     "text": [
      "Top 5 Hours for Ask Posts Comments.\n",
      "15:00: 38.59 average comments per post\n",
      "02:00: 23.81 average comments per post\n",
      "20:00: 21.52 average comments per post\n",
      "16:00: 16.80 average comments per post\n",
      "21:00: 16.01 average comments per post\n"
     ]
    }
   ],
   "source": [
    "# Display the top 5 hours with the highest average comments\n",
    "print(\"Top 5 Hours for Ask Posts Comments.\")\n",
    "for row in sorted_swap[:5]:\n",
    "    comment_avg = row[0]\n",
    "    str_hr = row[1]\n",
    "    # Convert dates from string to datetime objects\n",
    "    dt_hr = dt.datetime.strptime(str_hr, '%H')\n",
    "    # Extract only hours and minutes\n",
    "    format_hr = dt_hr.strftime('%H:%M')\n",
    "    print(f'{format_hr}: {comment_avg:.2f} average comments per post')"
   ]
  },
  {
   "cell_type": "markdown",
   "id": "c23254f1",
   "metadata": {},
   "source": [
    "The hour that receives the most comments per post on average is 15:00, with an average of 38.59 comments per post. There's about a 62% increase in the average of comments between the hours with the highest and second highest average number of comments.\n",
    "\n",
    "According to the dataset [documentation](https://www.kaggle.com/hacker-news/hacker-news-posts/home), the time zone used is Eastern Time in the US, so if we convert 15:00 (EST) into local time that is Pakistan Standard Time (PKT). This will make easy for us to decide what time we should create a post to maximize the ammount of comments.\n",
    "\n",
    "We'll use [pytz module](https://pypi.org/project/pytz/) that allows accurate and cross platform timezone calculations using Python. Let's break down the steps how we'll implement the conversion in the code cell below:\n",
    "1. We'll import the `pytz` package\n",
    "2. Extract the posts' **hour** where we have maximum comments from the list `sorted_swap`\n",
    "3. Instantiate `US/Eastern` and `Asia/Karachi` time for conversion\n",
    "4. Parse the string date to datetime object\n",
    "5. Convert datetime object to `US datetime`\n",
    "6. Convert `US datetime` to `Pakistan datetime`"
   ]
  },
  {
   "cell_type": "code",
   "execution_count": 14,
   "id": "2021737a",
   "metadata": {},
   "outputs": [
    {
     "name": "stdout",
     "output_type": "stream",
     "text": [
      "03:00 PM EST is 12:24 AM PKT\n"
     ]
    }
   ],
   "source": [
    "import pytz\n",
    "\n",
    "# Extract hour of max comments from 'sorted_swap'\n",
    "max_comments_hr = sorted_swap[0][1]\n",
    "# Instantiate timezone of 'US' and 'Pakistan'\n",
    "us_tz = pytz.timezone('US/Eastern')\n",
    "pakistan_tz = pytz.timezone('Asia/Karachi')\n",
    "# String format for time\n",
    "fmt = '%I:%M %p'\n",
    "\n",
    "# Convert date into datetime object\n",
    "dt_hr = dt.datetime.strptime(max_comments_hr, '%H')\n",
    "# Convert time to eastern time\n",
    "us_dt = us_tz.localize(dt_hr)\n",
    "# Convert eastern time to pakistan time\n",
    "pkt_dt = us_dt.astimezone(pakistan_tz)\n",
    "print(f'{us_dt.strftime(fmt)} EST is {pkt_dt.strftime(fmt)} PKT')"
   ]
  },
  {
   "cell_type": "markdown",
   "id": "c083dc5c",
   "metadata": {},
   "source": [
    "So now we can decide if we write a post around **midnight** local time that will increase the chances to get maximum comments."
   ]
  },
  {
   "cell_type": "markdown",
   "id": "da644615",
   "metadata": {},
   "source": [
    "## Conclusion\n",
    "\n",
    "In this project, we analyzed **ask posts** and **show posts** to determine which type of post and time receive the most comments on average. Based on our analysis, to maximize the amount of comments a post receives, we'd recommend the post be categorized as ask post and created between 15:00 and 16:00 EST (3:00-4:00 pm)\n",
    "\n",
    "However, it should be noted that the dataset we analyzed excluded posts without any comments. Given that, it's more accurate to say that *of the posts that received comments*, **ask posts** received more comments on average and ask posts created between 15:00 and 16:00 EST received the most comments on average."
   ]
  }
 ],
 "metadata": {
  "kernelspec": {
   "display_name": "dataquest",
   "language": "python",
   "name": "dataquest"
  },
  "language_info": {
   "codemirror_mode": {
    "name": "ipython",
    "version": 3
   },
   "file_extension": ".py",
   "mimetype": "text/x-python",
   "name": "python",
   "nbconvert_exporter": "python",
   "pygments_lexer": "ipython3",
   "version": "3.9.7"
  }
 },
 "nbformat": 4,
 "nbformat_minor": 5
}
